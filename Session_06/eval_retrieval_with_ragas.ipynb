{
 "cells": [
  {
   "cell_type": "markdown",
   "id": "ea549a39",
   "metadata": {},
   "source": [
    "## Reference Data"
   ]
  },
  {
   "cell_type": "code",
   "execution_count": 8,
   "id": "701e2922",
   "metadata": {},
   "outputs": [
    {
     "name": "stdout",
     "output_type": "stream",
     "text": [
      "question: What is the company's policy on remote work?\n",
      "ground_truth: Remote work is allowed up to 3 days per week. \n",
      "context: Remote work is allowed up to 3 days per week.\n"
     ]
    }
   ],
   "source": [
    "reference_data = [\n",
    "  {\n",
    "    \"question\": \"What is the company's policy on remote work?\", \n",
    "    \"ground_truth\": \"Remote work is allowed up to 3 days per week. \", #Expected llm generated answer\n",
    "    \"context\": \"Remote work is allowed up to 3 days per week.\" #Expected retrieved context\n",
    "  }\n",
    "]\n",
    "question = reference_data[0]['question']\n",
    "ground_truth = reference_data[0]['ground_truth']\n",
    "context = reference_data[0]['context']\n",
    "print (f\"question: {question}\")\n",
    "print (f\"ground_truth: {ground_truth}\")\n",
    "print (f\"context: {context}\")"
   ]
  },
  {
   "cell_type": "code",
   "execution_count": 9,
   "id": "9a07ec40",
   "metadata": {},
   "outputs": [
    {
     "name": "stdout",
     "output_type": "stream",
     "text": [
      "perform_retrieval.retrieved_context: Remote work is allowed up to 3 days per week.\n"
     ]
    },
    {
     "data": {
      "text/plain": [
       "'Remote work is allowed up to 3 days per week.'"
      ]
     },
     "execution_count": 9,
     "metadata": {},
     "output_type": "execute_result"
    }
   ],
   "source": [
    "# Retrieve context from Milvus DB\n",
    "\n",
    "from milvus_chatbot_with_rag import retrieve_similiar_contexts\n",
    "\n",
    "def perform_retrieval(question):\n",
    "\n",
    "    retrieved_context = retrieve_similiar_contexts(question, \"employee_policies\", 1)[0]['content']\n",
    "    print (f\"perform_retrieval.retrieved_context: {retrieved_context}\")\n",
    "    return retrieved_context\n",
    "\n",
    "# Validate retrieved context against reference data    \n",
    "perform_retrieval(\"What is the company's policy on remote work?\")\n"
   ]
  },
  {
   "cell_type": "code",
   "execution_count": 10,
   "id": "6f1bb10c",
   "metadata": {},
   "outputs": [
    {
     "name": "stderr",
     "output_type": "stream",
     "text": [
      "huggingface/tokenizers: The current process just got forked, after parallelism has already been used. Disabling parallelism to avoid deadlocks...\n",
      "To disable this warning, you can either:\n",
      "\t- Avoid using `tokenizers` before the fork if possible\n",
      "\t- Explicitly set the environment variable TOKENIZERS_PARALLELISM=(true | false)\n"
     ]
    },
    {
     "name": "stdout",
     "output_type": "stream",
     "text": [
      "Requirement already satisfied: ragas in /Users/amiteshsinha/Training/2025_09_Gen_AI_Class/.venv/lib/python3.13/site-packages (0.3.6)\n",
      "Requirement already satisfied: datasets in /Users/amiteshsinha/Training/2025_09_Gen_AI_Class/.venv/lib/python3.13/site-packages (4.1.1)\n",
      "Requirement already satisfied: numpy<3.0.0,>=1.21.0 in /Users/amiteshsinha/Training/2025_09_Gen_AI_Class/.venv/lib/python3.13/site-packages (from ragas) (2.3.3)\n",
      "Requirement already satisfied: tiktoken in /Users/amiteshsinha/Training/2025_09_Gen_AI_Class/.venv/lib/python3.13/site-packages (from ragas) (0.12.0)\n",
      "Requirement already satisfied: pydantic>=2.0.0 in /Users/amiteshsinha/Training/2025_09_Gen_AI_Class/.venv/lib/python3.13/site-packages (from ragas) (2.11.9)\n",
      "Requirement already satisfied: nest-asyncio in /Users/amiteshsinha/Training/2025_09_Gen_AI_Class/.venv/lib/python3.13/site-packages (from ragas) (1.6.0)\n",
      "Requirement already satisfied: appdirs in /Users/amiteshsinha/Training/2025_09_Gen_AI_Class/.venv/lib/python3.13/site-packages (from ragas) (1.4.4)\n",
      "Requirement already satisfied: diskcache>=5.6.3 in /Users/amiteshsinha/Training/2025_09_Gen_AI_Class/.venv/lib/python3.13/site-packages (from ragas) (5.6.3)\n",
      "Requirement already satisfied: typer in /Users/amiteshsinha/Training/2025_09_Gen_AI_Class/.venv/lib/python3.13/site-packages (from ragas) (0.19.2)\n",
      "Requirement already satisfied: rich in /Users/amiteshsinha/Training/2025_09_Gen_AI_Class/.venv/lib/python3.13/site-packages (from ragas) (14.1.0)\n",
      "Requirement already satisfied: openai>=1.0.0 in /Users/amiteshsinha/Training/2025_09_Gen_AI_Class/.venv/lib/python3.13/site-packages (from ragas) (1.109.1)\n",
      "Requirement already satisfied: tqdm in /Users/amiteshsinha/Training/2025_09_Gen_AI_Class/.venv/lib/python3.13/site-packages (from ragas) (4.67.1)\n",
      "Requirement already satisfied: instructor in /Users/amiteshsinha/Training/2025_09_Gen_AI_Class/.venv/lib/python3.13/site-packages (from ragas) (1.11.3)\n",
      "Requirement already satisfied: gitpython in /Users/amiteshsinha/Training/2025_09_Gen_AI_Class/.venv/lib/python3.13/site-packages (from ragas) (3.1.45)\n",
      "Requirement already satisfied: pillow>=10.4.0 in /Users/amiteshsinha/Training/2025_09_Gen_AI_Class/.venv/lib/python3.13/site-packages (from ragas) (11.3.0)\n",
      "Requirement already satisfied: networkx in /Users/amiteshsinha/Training/2025_09_Gen_AI_Class/.venv/lib/python3.13/site-packages (from ragas) (3.5)\n",
      "Requirement already satisfied: scikit-network in /Users/amiteshsinha/Training/2025_09_Gen_AI_Class/.venv/lib/python3.13/site-packages (from ragas) (0.33.3)\n",
      "Requirement already satisfied: langchain in /Users/amiteshsinha/Training/2025_09_Gen_AI_Class/.venv/lib/python3.13/site-packages (from ragas) (0.3.27)\n",
      "Requirement already satisfied: langchain-core in /Users/amiteshsinha/Training/2025_09_Gen_AI_Class/.venv/lib/python3.13/site-packages (from ragas) (0.3.78)\n",
      "Requirement already satisfied: langchain-community in /Users/amiteshsinha/Training/2025_09_Gen_AI_Class/.venv/lib/python3.13/site-packages (from ragas) (0.3.31)\n",
      "Requirement already satisfied: langchain_openai in /Users/amiteshsinha/Training/2025_09_Gen_AI_Class/.venv/lib/python3.13/site-packages (from ragas) (0.3.35)\n",
      "Requirement already satisfied: filelock in /Users/amiteshsinha/Training/2025_09_Gen_AI_Class/.venv/lib/python3.13/site-packages (from datasets) (3.19.1)\n",
      "Requirement already satisfied: pyarrow>=21.0.0 in /Users/amiteshsinha/Training/2025_09_Gen_AI_Class/.venv/lib/python3.13/site-packages (from datasets) (21.0.0)\n",
      "Requirement already satisfied: dill<0.4.1,>=0.3.0 in /Users/amiteshsinha/Training/2025_09_Gen_AI_Class/.venv/lib/python3.13/site-packages (from datasets) (0.4.0)\n",
      "Requirement already satisfied: pandas in /Users/amiteshsinha/Training/2025_09_Gen_AI_Class/.venv/lib/python3.13/site-packages (from datasets) (2.3.3)\n",
      "Requirement already satisfied: requests>=2.32.2 in /Users/amiteshsinha/Training/2025_09_Gen_AI_Class/.venv/lib/python3.13/site-packages (from datasets) (2.32.5)\n",
      "Requirement already satisfied: xxhash in /Users/amiteshsinha/Training/2025_09_Gen_AI_Class/.venv/lib/python3.13/site-packages (from datasets) (3.6.0)\n",
      "Requirement already satisfied: multiprocess<0.70.17 in /Users/amiteshsinha/Training/2025_09_Gen_AI_Class/.venv/lib/python3.13/site-packages (from datasets) (0.70.16)\n",
      "Requirement already satisfied: fsspec<=2025.9.0,>=2023.1.0 in /Users/amiteshsinha/Training/2025_09_Gen_AI_Class/.venv/lib/python3.13/site-packages (from fsspec[http]<=2025.9.0,>=2023.1.0->datasets) (2025.9.0)\n",
      "Requirement already satisfied: huggingface-hub>=0.24.0 in /Users/amiteshsinha/Training/2025_09_Gen_AI_Class/.venv/lib/python3.13/site-packages (from datasets) (0.35.3)\n",
      "Requirement already satisfied: packaging in /Users/amiteshsinha/Training/2025_09_Gen_AI_Class/.venv/lib/python3.13/site-packages (from datasets) (25.0)\n",
      "Requirement already satisfied: pyyaml>=5.1 in /Users/amiteshsinha/Training/2025_09_Gen_AI_Class/.venv/lib/python3.13/site-packages (from datasets) (6.0.3)\n",
      "Requirement already satisfied: aiohttp!=4.0.0a0,!=4.0.0a1 in /Users/amiteshsinha/Training/2025_09_Gen_AI_Class/.venv/lib/python3.13/site-packages (from fsspec[http]<=2025.9.0,>=2023.1.0->datasets) (3.13.0)\n",
      "Requirement already satisfied: aiohappyeyeballs>=2.5.0 in /Users/amiteshsinha/Training/2025_09_Gen_AI_Class/.venv/lib/python3.13/site-packages (from aiohttp!=4.0.0a0,!=4.0.0a1->fsspec[http]<=2025.9.0,>=2023.1.0->datasets) (2.6.1)\n",
      "Requirement already satisfied: aiosignal>=1.4.0 in /Users/amiteshsinha/Training/2025_09_Gen_AI_Class/.venv/lib/python3.13/site-packages (from aiohttp!=4.0.0a0,!=4.0.0a1->fsspec[http]<=2025.9.0,>=2023.1.0->datasets) (1.4.0)\n",
      "Requirement already satisfied: attrs>=17.3.0 in /Users/amiteshsinha/Training/2025_09_Gen_AI_Class/.venv/lib/python3.13/site-packages (from aiohttp!=4.0.0a0,!=4.0.0a1->fsspec[http]<=2025.9.0,>=2023.1.0->datasets) (25.4.0)\n",
      "Requirement already satisfied: frozenlist>=1.1.1 in /Users/amiteshsinha/Training/2025_09_Gen_AI_Class/.venv/lib/python3.13/site-packages (from aiohttp!=4.0.0a0,!=4.0.0a1->fsspec[http]<=2025.9.0,>=2023.1.0->datasets) (1.8.0)\n",
      "Requirement already satisfied: multidict<7.0,>=4.5 in /Users/amiteshsinha/Training/2025_09_Gen_AI_Class/.venv/lib/python3.13/site-packages (from aiohttp!=4.0.0a0,!=4.0.0a1->fsspec[http]<=2025.9.0,>=2023.1.0->datasets) (6.7.0)\n",
      "Requirement already satisfied: propcache>=0.2.0 in /Users/amiteshsinha/Training/2025_09_Gen_AI_Class/.venv/lib/python3.13/site-packages (from aiohttp!=4.0.0a0,!=4.0.0a1->fsspec[http]<=2025.9.0,>=2023.1.0->datasets) (0.4.1)\n",
      "Requirement already satisfied: yarl<2.0,>=1.17.0 in /Users/amiteshsinha/Training/2025_09_Gen_AI_Class/.venv/lib/python3.13/site-packages (from aiohttp!=4.0.0a0,!=4.0.0a1->fsspec[http]<=2025.9.0,>=2023.1.0->datasets) (1.22.0)\n",
      "Requirement already satisfied: idna>=2.0 in /Users/amiteshsinha/Training/2025_09_Gen_AI_Class/.venv/lib/python3.13/site-packages (from yarl<2.0,>=1.17.0->aiohttp!=4.0.0a0,!=4.0.0a1->fsspec[http]<=2025.9.0,>=2023.1.0->datasets) (3.10)\n",
      "Requirement already satisfied: typing-extensions>=3.7.4.3 in /Users/amiteshsinha/Training/2025_09_Gen_AI_Class/.venv/lib/python3.13/site-packages (from huggingface-hub>=0.24.0->datasets) (4.15.0)\n",
      "Requirement already satisfied: hf-xet<2.0.0,>=1.1.3 in /Users/amiteshsinha/Training/2025_09_Gen_AI_Class/.venv/lib/python3.13/site-packages (from huggingface-hub>=0.24.0->datasets) (1.1.10)\n",
      "Requirement already satisfied: anyio<5,>=3.5.0 in /Users/amiteshsinha/Training/2025_09_Gen_AI_Class/.venv/lib/python3.13/site-packages (from openai>=1.0.0->ragas) (4.11.0)\n",
      "Requirement already satisfied: distro<2,>=1.7.0 in /Users/amiteshsinha/Training/2025_09_Gen_AI_Class/.venv/lib/python3.13/site-packages (from openai>=1.0.0->ragas) (1.9.0)\n",
      "Requirement already satisfied: httpx<1,>=0.23.0 in /Users/amiteshsinha/Training/2025_09_Gen_AI_Class/.venv/lib/python3.13/site-packages (from openai>=1.0.0->ragas) (0.28.1)\n",
      "Requirement already satisfied: jiter<1,>=0.4.0 in /Users/amiteshsinha/Training/2025_09_Gen_AI_Class/.venv/lib/python3.13/site-packages (from openai>=1.0.0->ragas) (0.10.0)\n",
      "Requirement already satisfied: sniffio in /Users/amiteshsinha/Training/2025_09_Gen_AI_Class/.venv/lib/python3.13/site-packages (from openai>=1.0.0->ragas) (1.3.1)\n",
      "Requirement already satisfied: certifi in /Users/amiteshsinha/Training/2025_09_Gen_AI_Class/.venv/lib/python3.13/site-packages (from httpx<1,>=0.23.0->openai>=1.0.0->ragas) (2025.8.3)\n",
      "Requirement already satisfied: httpcore==1.* in /Users/amiteshsinha/Training/2025_09_Gen_AI_Class/.venv/lib/python3.13/site-packages (from httpx<1,>=0.23.0->openai>=1.0.0->ragas) (1.0.9)\n",
      "Requirement already satisfied: h11>=0.16 in /Users/amiteshsinha/Training/2025_09_Gen_AI_Class/.venv/lib/python3.13/site-packages (from httpcore==1.*->httpx<1,>=0.23.0->openai>=1.0.0->ragas) (0.16.0)\n",
      "Requirement already satisfied: annotated-types>=0.6.0 in /Users/amiteshsinha/Training/2025_09_Gen_AI_Class/.venv/lib/python3.13/site-packages (from pydantic>=2.0.0->ragas) (0.7.0)\n",
      "Requirement already satisfied: pydantic-core==2.33.2 in /Users/amiteshsinha/Training/2025_09_Gen_AI_Class/.venv/lib/python3.13/site-packages (from pydantic>=2.0.0->ragas) (2.33.2)\n",
      "Requirement already satisfied: typing-inspection>=0.4.0 in /Users/amiteshsinha/Training/2025_09_Gen_AI_Class/.venv/lib/python3.13/site-packages (from pydantic>=2.0.0->ragas) (0.4.1)\n",
      "Requirement already satisfied: charset_normalizer<4,>=2 in /Users/amiteshsinha/Training/2025_09_Gen_AI_Class/.venv/lib/python3.13/site-packages (from requests>=2.32.2->datasets) (3.4.3)\n",
      "Requirement already satisfied: urllib3<3,>=1.21.1 in /Users/amiteshsinha/Training/2025_09_Gen_AI_Class/.venv/lib/python3.13/site-packages (from requests>=2.32.2->datasets) (2.5.0)\n",
      "Requirement already satisfied: gitdb<5,>=4.0.1 in /Users/amiteshsinha/Training/2025_09_Gen_AI_Class/.venv/lib/python3.13/site-packages (from gitpython->ragas) (4.0.12)\n",
      "Requirement already satisfied: smmap<6,>=3.0.1 in /Users/amiteshsinha/Training/2025_09_Gen_AI_Class/.venv/lib/python3.13/site-packages (from gitdb<5,>=4.0.1->gitpython->ragas) (5.0.2)\n",
      "Requirement already satisfied: docstring-parser<1.0,>=0.16 in /Users/amiteshsinha/Training/2025_09_Gen_AI_Class/.venv/lib/python3.13/site-packages (from instructor->ragas) (0.17.0)\n",
      "Requirement already satisfied: jinja2<4.0.0,>=3.1.4 in /Users/amiteshsinha/Training/2025_09_Gen_AI_Class/.venv/lib/python3.13/site-packages (from instructor->ragas) (3.1.6)\n",
      "Requirement already satisfied: tenacity<10.0.0,>=8.2.3 in /Users/amiteshsinha/Training/2025_09_Gen_AI_Class/.venv/lib/python3.13/site-packages (from instructor->ragas) (9.1.2)\n",
      "Requirement already satisfied: MarkupSafe>=2.0 in /Users/amiteshsinha/Training/2025_09_Gen_AI_Class/.venv/lib/python3.13/site-packages (from jinja2<4.0.0,>=3.1.4->instructor->ragas) (3.0.3)\n",
      "Requirement already satisfied: markdown-it-py>=2.2.0 in /Users/amiteshsinha/Training/2025_09_Gen_AI_Class/.venv/lib/python3.13/site-packages (from rich->ragas) (4.0.0)\n",
      "Requirement already satisfied: pygments<3.0.0,>=2.13.0 in /Users/amiteshsinha/Training/2025_09_Gen_AI_Class/.venv/lib/python3.13/site-packages (from rich->ragas) (2.19.2)\n",
      "Requirement already satisfied: click>=8.0.0 in /Users/amiteshsinha/Training/2025_09_Gen_AI_Class/.venv/lib/python3.13/site-packages (from typer->ragas) (8.0.1)\n",
      "Requirement already satisfied: shellingham>=1.3.0 in /Users/amiteshsinha/Training/2025_09_Gen_AI_Class/.venv/lib/python3.13/site-packages (from typer->ragas) (1.5.4)\n",
      "Requirement already satisfied: mdurl~=0.1 in /Users/amiteshsinha/Training/2025_09_Gen_AI_Class/.venv/lib/python3.13/site-packages (from markdown-it-py>=2.2.0->rich->ragas) (0.1.2)\n",
      "Requirement already satisfied: langchain-text-splitters<1.0.0,>=0.3.9 in /Users/amiteshsinha/Training/2025_09_Gen_AI_Class/.venv/lib/python3.13/site-packages (from langchain->ragas) (0.3.11)\n",
      "Requirement already satisfied: langsmith>=0.1.17 in /Users/amiteshsinha/Training/2025_09_Gen_AI_Class/.venv/lib/python3.13/site-packages (from langchain->ragas) (0.4.33)\n",
      "Requirement already satisfied: SQLAlchemy<3,>=1.4 in /Users/amiteshsinha/Training/2025_09_Gen_AI_Class/.venv/lib/python3.13/site-packages (from langchain->ragas) (2.0.43)\n",
      "Requirement already satisfied: jsonpatch<2.0.0,>=1.33.0 in /Users/amiteshsinha/Training/2025_09_Gen_AI_Class/.venv/lib/python3.13/site-packages (from langchain-core->ragas) (1.33)\n",
      "Requirement already satisfied: jsonpointer>=1.9 in /Users/amiteshsinha/Training/2025_09_Gen_AI_Class/.venv/lib/python3.13/site-packages (from jsonpatch<2.0.0,>=1.33.0->langchain-core->ragas) (3.0.0)\n",
      "Requirement already satisfied: orjson>=3.9.14 in /Users/amiteshsinha/Training/2025_09_Gen_AI_Class/.venv/lib/python3.13/site-packages (from langsmith>=0.1.17->langchain->ragas) (3.11.3)\n",
      "Requirement already satisfied: requests-toolbelt>=1.0.0 in /Users/amiteshsinha/Training/2025_09_Gen_AI_Class/.venv/lib/python3.13/site-packages (from langsmith>=0.1.17->langchain->ragas) (1.0.0)\n",
      "Requirement already satisfied: zstandard>=0.23.0 in /Users/amiteshsinha/Training/2025_09_Gen_AI_Class/.venv/lib/python3.13/site-packages (from langsmith>=0.1.17->langchain->ragas) (0.25.0)\n",
      "Requirement already satisfied: dataclasses-json<0.7.0,>=0.6.7 in /Users/amiteshsinha/Training/2025_09_Gen_AI_Class/.venv/lib/python3.13/site-packages (from langchain-community->ragas) (0.6.7)\n",
      "Requirement already satisfied: pydantic-settings<3.0.0,>=2.10.1 in /Users/amiteshsinha/Training/2025_09_Gen_AI_Class/.venv/lib/python3.13/site-packages (from langchain-community->ragas) (2.11.0)\n",
      "Requirement already satisfied: httpx-sse<1.0.0,>=0.4.0 in /Users/amiteshsinha/Training/2025_09_Gen_AI_Class/.venv/lib/python3.13/site-packages (from langchain-community->ragas) (0.4.2)\n",
      "Requirement already satisfied: marshmallow<4.0.0,>=3.18.0 in /Users/amiteshsinha/Training/2025_09_Gen_AI_Class/.venv/lib/python3.13/site-packages (from dataclasses-json<0.7.0,>=0.6.7->langchain-community->ragas) (3.26.1)\n",
      "Requirement already satisfied: typing-inspect<1,>=0.4.0 in /Users/amiteshsinha/Training/2025_09_Gen_AI_Class/.venv/lib/python3.13/site-packages (from dataclasses-json<0.7.0,>=0.6.7->langchain-community->ragas) (0.9.0)\n",
      "Requirement already satisfied: python-dotenv>=0.21.0 in /Users/amiteshsinha/Training/2025_09_Gen_AI_Class/.venv/lib/python3.13/site-packages (from pydantic-settings<3.0.0,>=2.10.1->langchain-community->ragas) (1.1.1)\n",
      "Requirement already satisfied: mypy-extensions>=0.3.0 in /Users/amiteshsinha/Training/2025_09_Gen_AI_Class/.venv/lib/python3.13/site-packages (from typing-inspect<1,>=0.4.0->dataclasses-json<0.7.0,>=0.6.7->langchain-community->ragas) (1.1.0)\n",
      "Requirement already satisfied: regex>=2022.1.18 in /Users/amiteshsinha/Training/2025_09_Gen_AI_Class/.venv/lib/python3.13/site-packages (from tiktoken->ragas) (2025.9.18)\n",
      "Requirement already satisfied: python-dateutil>=2.8.2 in /Users/amiteshsinha/Training/2025_09_Gen_AI_Class/.venv/lib/python3.13/site-packages (from pandas->datasets) (2.9.0.post0)\n",
      "Requirement already satisfied: pytz>=2020.1 in /Users/amiteshsinha/Training/2025_09_Gen_AI_Class/.venv/lib/python3.13/site-packages (from pandas->datasets) (2025.2)\n",
      "Requirement already satisfied: tzdata>=2022.7 in /Users/amiteshsinha/Training/2025_09_Gen_AI_Class/.venv/lib/python3.13/site-packages (from pandas->datasets) (2025.2)\n",
      "Requirement already satisfied: six>=1.5 in /Users/amiteshsinha/Training/2025_09_Gen_AI_Class/.venv/lib/python3.13/site-packages (from python-dateutil>=2.8.2->pandas->datasets) (1.17.0)\n",
      "Requirement already satisfied: scipy>=1.7.3 in /Users/amiteshsinha/Training/2025_09_Gen_AI_Class/.venv/lib/python3.13/site-packages (from scikit-network->ragas) (1.16.2)\n",
      "Note: you may need to restart the kernel to use updated packages.\n"
     ]
    }
   ],
   "source": [
    "%pip install ragas datasets "
   ]
  },
  {
   "cell_type": "code",
   "execution_count": 11,
   "id": "14391999",
   "metadata": {},
   "outputs": [
    {
     "name": "stdout",
     "output_type": "stream",
     "text": [
      "perform_retrieval.retrieved_context: Remote work is allowed up to 3 days per week.\n",
      "dataset_dict: {'question': [\"What is the company's policy on remote work?\"], 'contexts': [['Remote work is allowed up to 3 days per week.']], 'ground_truth': ['Remote work is allowed up to 3 days per week.'], 'answer': ['']}\n"
     ]
    },
    {
     "name": "stderr",
     "output_type": "stream",
     "text": [
      "Evaluating: 100%|██████████| 2/2 [00:02<00:00,  1.28s/it]\n"
     ]
    }
   ],
   "source": [
    "from datasets import Dataset\n",
    "from ragas import evaluate\n",
    "from ragas.metrics import context_precision, context_recall\n",
    "\n",
    "from dotenv import load_dotenv\n",
    "from openai import OpenAI\n",
    "import os\n",
    "\n",
    "# --- Load API Key ---\n",
    "load_dotenv(override=True, dotenv_path=\"../.env\")\n",
    "my_api_key = os.getenv(\"OPENAI_API_KEY\")\n",
    "\n",
    "\n",
    "client = OpenAI(api_key=my_api_key)\n",
    "\n",
    "# question = reference_data[0]['question']\n",
    "# ground_truth = reference_data[0]['ground_truth']\n",
    "# context = reference_data[0]['context']\n",
    "# Question User asked\n",
    "question = reference_data[0]['question']\n",
    "\n",
    "# Reference context (should be a string)\n",
    "reference_context = reference_data[0]['context']\n",
    "\n",
    "# Retrieved context (a string from perform_retrieval)\n",
    "retrieved_context = [perform_retrieval(question)]\n",
    "\n",
    "# Build dataset properly\n",
    "dataset_dict = {\n",
    "    \"question\": [question],\n",
    "    \"contexts\": [retrieved_context],      # list of strings INSIDE another list\n",
    "    \"ground_truth\": [reference_context],   # single string\n",
    "    \"answer\": [\"\"]\n",
    "}\n",
    "\n",
    "print(f\"dataset_dict: {dataset_dict}\")\n",
    "\n",
    "ragas_dataset = Dataset.from_dict(dataset_dict)\n",
    "\n",
    "# Evaluate retrieval\n",
    "results = evaluate(\n",
    "    dataset=ragas_dataset,\n",
    "    metrics=[context_precision, context_recall]\n",
    ")\n"
   ]
  },
  {
   "cell_type": "code",
   "execution_count": 12,
   "id": "b78acf47",
   "metadata": {},
   "outputs": [
    {
     "name": "stdout",
     "output_type": "stream",
     "text": [
      "Retrieval Evaluation Results:\n"
     ]
    },
    {
     "data": {
      "text/html": [
       "<div>\n",
       "<style scoped>\n",
       "    .dataframe tbody tr th:only-of-type {\n",
       "        vertical-align: middle;\n",
       "    }\n",
       "\n",
       "    .dataframe tbody tr th {\n",
       "        vertical-align: top;\n",
       "    }\n",
       "\n",
       "    .dataframe thead th {\n",
       "        text-align: right;\n",
       "    }\n",
       "</style>\n",
       "<table border=\"1\" class=\"dataframe\">\n",
       "  <thead>\n",
       "    <tr style=\"text-align: right;\">\n",
       "      <th></th>\n",
       "      <th>user_input</th>\n",
       "      <th>retrieved_contexts</th>\n",
       "      <th>response</th>\n",
       "      <th>reference</th>\n",
       "      <th>context_precision</th>\n",
       "      <th>context_recall</th>\n",
       "    </tr>\n",
       "  </thead>\n",
       "  <tbody>\n",
       "    <tr>\n",
       "      <th>0</th>\n",
       "      <td>What is the company's policy on remote work?</td>\n",
       "      <td>[Remote work is allowed up to 3 days per week.]</td>\n",
       "      <td></td>\n",
       "      <td>Remote work is allowed up to 3 days per week.</td>\n",
       "      <td>1.0</td>\n",
       "      <td>1.0</td>\n",
       "    </tr>\n",
       "  </tbody>\n",
       "</table>\n",
       "</div>"
      ],
      "text/plain": [
       "                                     user_input  \\\n",
       "0  What is the company's policy on remote work?   \n",
       "\n",
       "                                retrieved_contexts response  \\\n",
       "0  [Remote work is allowed up to 3 days per week.]            \n",
       "\n",
       "                                       reference  context_precision  \\\n",
       "0  Remote work is allowed up to 3 days per week.                1.0   \n",
       "\n",
       "   context_recall  \n",
       "0             1.0  "
      ]
     },
     "execution_count": 12,
     "metadata": {},
     "output_type": "execute_result"
    }
   ],
   "source": [
    "print(\"Retrieval Evaluation Results:\")\n",
    "results.to_pandas()\n"
   ]
  },
  {
   "cell_type": "markdown",
   "id": "1dc287cd",
   "metadata": {},
   "source": [
    "## "
   ]
  },
  {
   "cell_type": "markdown",
   "id": "c7c75848",
   "metadata": {},
   "source": []
  }
 ],
 "metadata": {
  "kernelspec": {
   "display_name": ".venv",
   "language": "python",
   "name": "python3"
  },
  "language_info": {
   "codemirror_mode": {
    "name": "ipython",
    "version": 3
   },
   "file_extension": ".py",
   "mimetype": "text/x-python",
   "name": "python",
   "nbconvert_exporter": "python",
   "pygments_lexer": "ipython3",
   "version": "3.13.5"
  }
 },
 "nbformat": 4,
 "nbformat_minor": 5
}
