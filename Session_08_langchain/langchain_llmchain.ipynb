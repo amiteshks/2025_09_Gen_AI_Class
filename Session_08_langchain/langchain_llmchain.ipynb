{
 "cells": [
  {
   "cell_type": "code",
   "execution_count": 1,
   "id": "35e6294c",
   "metadata": {},
   "outputs": [],
   "source": [
    "# %pip install langchain openai langchain-core langchain-openai"
   ]
  },
  {
   "cell_type": "code",
   "execution_count": 2,
   "id": "18eabf22",
   "metadata": {},
   "outputs": [
    {
     "name": "stderr",
     "output_type": "stream",
     "text": [
      "/Users/amiteshsinha/Training/09_2025_GenAI/.venv/lib/python3.13/site-packages/tqdm/auto.py:21: TqdmWarning: IProgress not found. Please update jupyter and ipywidgets. See https://ipywidgets.readthedocs.io/en/stable/user_install.html\n",
      "  from .autonotebook import tqdm as notebook_tqdm\n",
      "/var/folders/b8/45pl36ms0xx399j715gybz840000gn/T/ipykernel_87918/1235792491.py:23: LangChainDeprecationWarning: The class `LLMChain` was deprecated in LangChain 0.1.17 and will be removed in 1.0. Use :meth:`~RunnableSequence, e.g., `prompt | llm`` instead.\n",
      "  chain = LLMChain(llm=my_llm, prompt=my_prompt)\n",
      "/var/folders/b8/45pl36ms0xx399j715gybz840000gn/T/ipykernel_87918/1235792491.py:26: LangChainDeprecationWarning: The method `Chain.run` was deprecated in langchain 0.1.0 and will be removed in 1.0. Use :meth:`~invoke` instead.\n",
      "  response = chain.run(\"What is Retrieval Augmented Generation?\")\n"
     ]
    },
    {
     "name": "stdout",
     "output_type": "stream",
     "text": [
      "Retrieval-Augmented Generation (RAG) is a framework that fetches relevant external documents and uses them to ground and condition a language model's generated answers.\n"
     ]
    }
   ],
   "source": [
    "import os\n",
    "from dotenv import load_dotenv\n",
    "\n",
    "# --- Load API Key ---\n",
    "load_dotenv(override=True, dotenv_path=\"../.env\")\n",
    "my_api_key = os.getenv(\"OPENAI_API_KEY\")\n",
    "\n",
    "from langchain_openai import ChatOpenAI\n",
    "# from langchain_ollama import Ollama\n",
    "from langchain.prompts import PromptTemplate\n",
    "from langchain.chains import LLMChain\n",
    "\n",
    "# Choose the LLM\n",
    "my_llm = ChatOpenAI(model=\"gpt-5-nano\", openai_api_key=my_api_key)\n",
    "\n",
    "# llm_ollama = Ollama(model=\"llama2\", base_url=\"http://localhost:11434\")\n",
    "\n",
    "# Create a prompt template\n",
    "template = \"\"\"You are an AI asstant. Respond this conncept in one line: {concept}\"\"\"\n",
    "my_prompt = PromptTemplate(template=template, input_variables=[\"concept\"])\n",
    "\n",
    "# Build the chain\n",
    "chain = LLMChain(llm=my_llm, prompt=my_prompt)\n",
    "\n",
    "# Run the chain\n",
    "response = chain.run(\"What is Retrieval Augmented Generation?\")\n",
    "print(response)\n"
   ]
  },
  {
   "cell_type": "code",
   "execution_count": 3,
   "id": "6e91ed86",
   "metadata": {},
   "outputs": [
    {
     "name": "stdout",
     "output_type": "stream",
     "text": [
      "Retrieval-Augmented Generation (RAG) is a framework that retrieves relevant documents from a knowledge source and uses a language model to generate answers conditioned on both the prompt and those retrieved documents.\n"
     ]
    }
   ],
   "source": [
    "# Build the chain\n",
    "#LCEL - LangChain Expression Language\n",
    "chain2 = my_prompt | my_llm \n",
    "\n",
    "# Run the chain\n",
    "response2 = chain2.invoke({\"concept\": \"Retrieval Augmented Generation\"})\n",
    "print(response2.content)"
   ]
  }
 ],
 "metadata": {
  "kernelspec": {
   "display_name": ".venv",
   "language": "python",
   "name": "python3"
  },
  "language_info": {
   "codemirror_mode": {
    "name": "ipython",
    "version": 3
   },
   "file_extension": ".py",
   "mimetype": "text/x-python",
   "name": "python",
   "nbconvert_exporter": "python",
   "pygments_lexer": "ipython3",
   "version": "3.13.5"
  }
 },
 "nbformat": 4,
 "nbformat_minor": 5
}
