{
 "cells": [
  {
   "cell_type": "code",
   "execution_count": 2,
   "id": "eec9eab3",
   "metadata": {},
   "outputs": [
    {
     "name": "stdout",
     "output_type": "stream",
     "text": [
      "Where is Germany located?\n"
     ]
    }
   ],
   "source": [
    "user_input = input(\"Enter a String\")\n",
    "print (user_input)"
   ]
  },
  {
   "cell_type": "code",
   "execution_count": null,
   "id": "51148362",
   "metadata": {},
   "outputs": [],
   "source": [
    "\n",
    "# Call to the LLM API with user_input\n",
    "# Get the response\n",
    "# Print the response"
   ]
  }
 ],
 "metadata": {
  "kernelspec": {
   "display_name": "base",
   "language": "python",
   "name": "python3"
  },
  "language_info": {
   "codemirror_mode": {
    "name": "ipython",
    "version": 3
   },
   "file_extension": ".py",
   "mimetype": "text/x-python",
   "name": "python",
   "nbconvert_exporter": "python",
   "pygments_lexer": "ipython3",
   "version": "3.12.7"
  }
 },
 "nbformat": 4,
 "nbformat_minor": 5
}
