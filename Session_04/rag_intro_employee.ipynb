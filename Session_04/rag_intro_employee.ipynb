{
 "cells": [
  {
   "cell_type": "markdown",
   "id": "865d6195",
   "metadata": {},
   "source": []
  },
  {
   "cell_type": "code",
   "execution_count": 6,
   "id": "75fd629b",
   "metadata": {},
   "outputs": [
    {
     "data": {
      "text/plain": [
       "[\"John's pay is processed on the 1st of every month.\",\n",
       " 'Mark is on a leave of absence until next Monday.',\n",
       " 'Julie is a software engineer.',\n",
       " \"Julie's pay is processed on the 1st of every month.\",\n",
       " 'Mark is a product manager.',\n",
       " 'John is an AI architect and has salary of 500K USD.']"
      ]
     },
     "execution_count": 6,
     "metadata": {},
     "output_type": "execute_result"
    }
   ],
   "source": [
    "\n",
    "# Step 1: Define Sample Documents\n",
    "documents = [\n",
    "    {\"section\": \"Employee Info\", \"content\": \"John's pay is processed on the 1st of every month.\"},\n",
    "    {\"section\": \"Employee Info\", \"content\": \"Mark is on a leave of absence until next Monday.\"},\n",
    "    {\"section\": \"Employee Info\", \"content\": \"Julie is a software engineer.\"},\n",
    "    {\"section\": \"Employee Info\", \"content\": \"Julie's pay is processed on the 1st of every month.\"},\n",
    "    {\"section\": \"Employee Info\", \"content\": \"Mark is a product manager.\"},\n",
    "    {\"section\": \"Employee Info\", \"content\": \"John is an AI architect and has salary of 500K USD.\"},\n",
    "]\n",
    "\n",
    "# Step 2: Get Content Texts\n",
    "content_corpus = [doc[\"content\"] for doc in documents]\n",
    "content_corpus"
   ]
  },
  {
   "cell_type": "code",
   "execution_count": 7,
   "id": "7115b44b",
   "metadata": {},
   "outputs": [
    {
     "name": "stdout",
     "output_type": "stream",
     "text": [
      "Note: you may need to restart the kernel to use updated packages.\n"
     ]
    }
   ],
   "source": [
    "%pip install -q sentence-transformers"
   ]
  },
  {
   "cell_type": "code",
   "execution_count": 8,
   "id": "01d063c9",
   "metadata": {},
   "outputs": [
    {
     "name": "stderr",
     "output_type": "stream",
     "text": [
      "/Users/amiteshsinha/Training/2025_09_Gen_AI_Class/.venv/lib/python3.13/site-packages/tqdm/auto.py:21: TqdmWarning: IProgress not found. Please update jupyter and ipywidgets. See https://ipywidgets.readthedocs.io/en/stable/user_install.html\n",
      "  from .autonotebook import tqdm as notebook_tqdm\n"
     ]
    }
   ],
   "source": [
    "from sentence_transformers import SentenceTransformer\n",
    "\n",
    "model = SentenceTransformer(\"all-MiniLM-L6-v2\")\n",
    "doc_vectors = model.encode(content_corpus)"
   ]
  },
  {
   "cell_type": "code",
   "execution_count": 9,
   "id": "f145d4dc",
   "metadata": {},
   "outputs": [
    {
     "name": "stdout",
     "output_type": "stream",
     "text": [
      "(6, 384)\n"
     ]
    }
   ],
   "source": [
    "doc_vectors\n",
    "print(doc_vectors.shape)"
   ]
  },
  {
   "cell_type": "code",
   "execution_count": 10,
   "id": "8d5c5714",
   "metadata": {},
   "outputs": [
    {
     "data": {
      "text/plain": [
       "array([-5.59080578e-02,  3.78226154e-02,  4.02554348e-02, -1.64268352e-02,\n",
       "       -3.50680649e-02,  1.08953983e-01,  2.83765737e-02,  2.33957507e-02,\n",
       "       -8.22251365e-02,  2.09271349e-02, -1.45430677e-02,  8.64816904e-02,\n",
       "        3.82013917e-02,  1.25282630e-02, -4.83173691e-02, -1.05945608e-02,\n",
       "       -3.96878133e-03,  5.74077293e-02, -3.76466587e-02, -3.85514498e-02,\n",
       "        1.99908838e-02,  7.95242959e-04,  2.38627996e-02, -4.83551174e-02,\n",
       "       -8.62931181e-03, -2.50500049e-02,  1.98525246e-02,  5.79859652e-02,\n",
       "       -5.43468781e-02, -8.26616958e-02, -4.44247685e-02, -1.80384424e-02,\n",
       "        3.37040275e-02, -2.95444578e-03, -9.83430743e-02,  5.52614853e-02,\n",
       "        1.23896440e-02,  1.26255974e-02,  1.52711170e-02, -4.67549078e-02,\n",
       "        1.66643243e-02, -5.56086153e-02,  3.78653891e-02,  3.91717516e-02,\n",
       "        1.67621579e-02, -9.18189809e-02, -9.79630495e-05, -3.69733311e-02,\n",
       "       -1.48366829e-02, -3.27884918e-03, -5.06913140e-02,  2.10180245e-02,\n",
       "        1.48328058e-02, -3.00151166e-02,  2.46896092e-02,  2.94148158e-02,\n",
       "       -2.44886260e-02, -1.17257312e-02, -1.69754978e-02, -1.08092099e-01,\n",
       "       -3.99595685e-02,  9.81189590e-03, -5.21127209e-02,  3.04282140e-02,\n",
       "        6.91830367e-02, -1.10316619e-01, -8.87526050e-02, -5.57607412e-03,\n",
       "       -2.03915108e-02,  8.06691218e-03, -5.91166364e-03, -6.74848631e-02,\n",
       "       -1.52172288e-02, -1.08368032e-01, -3.67283225e-02, -2.95213033e-02,\n",
       "       -3.36445333e-03,  5.66408373e-02, -5.37745538e-04,  2.99911965e-02,\n",
       "        7.92191550e-02, -4.26379070e-02, -1.05902702e-01,  5.18829376e-02,\n",
       "       -7.77029386e-03,  2.26451512e-02, -9.17391200e-03,  4.93891537e-03,\n",
       "       -3.00002042e-02,  6.56609014e-02,  1.24608744e-02, -5.40599525e-02,\n",
       "       -4.99020889e-02,  1.01945095e-01, -6.59568533e-02,  5.45168854e-02,\n",
       "       -1.02110859e-02,  4.12037522e-02, -3.82219851e-02,  6.00778870e-02,\n",
       "        4.67349850e-02,  2.59309970e-02,  5.13713248e-02,  5.51500311e-03,\n",
       "       -3.81706450e-05, -4.41004289e-03,  9.69923474e-03,  1.20102707e-02,\n",
       "        2.71239392e-02, -1.05651826e-01, -5.22094630e-02, -7.74981305e-02,\n",
       "       -7.30409995e-02, -1.64839122e-02,  2.57406477e-02,  3.41525190e-02,\n",
       "        6.81008101e-02,  6.38222322e-02, -2.71375198e-02, -6.82366937e-02,\n",
       "        1.25477195e-01,  7.23568648e-02, -2.15866081e-02,  6.21294491e-02,\n",
       "       -4.79643792e-02,  9.61137712e-02, -7.91288540e-02, -6.50015609e-33,\n",
       "        2.51723174e-02, -6.67148456e-02,  4.81296927e-02,  1.11319356e-01,\n",
       "        3.82563169e-03,  4.27775122e-02, -3.95331010e-02, -2.40268447e-02,\n",
       "       -2.12965757e-02, -4.40196916e-02,  2.21794620e-02, -2.50299275e-02,\n",
       "       -1.29852875e-03, -6.96943328e-02, -1.03077926e-01,  4.68396209e-02,\n",
       "       -5.76218106e-02, -3.13294344e-02,  2.75913253e-02,  1.38034098e-04,\n",
       "        9.58185410e-04,  7.99013451e-02, -6.13888912e-02, -8.65613949e-03,\n",
       "        5.10707349e-02,  3.40787917e-02,  3.87703180e-02,  3.45604029e-03,\n",
       "        9.36239772e-03,  2.67594922e-02, -2.64938511e-02,  7.11813942e-02,\n",
       "       -8.41624215e-02, -2.10381839e-02,  8.69024545e-02,  4.52619512e-03,\n",
       "       -1.12311102e-01, -9.07904133e-02,  4.60367277e-02, -3.75818321e-03,\n",
       "       -5.72123453e-02,  4.80156252e-03, -2.67043244e-02,  3.96488607e-02,\n",
       "       -8.61208439e-02, -3.44117619e-02, -1.03500690e-02,  8.82813856e-02,\n",
       "        8.94786641e-02,  8.13208446e-02,  7.65164942e-02, -1.67746916e-02,\n",
       "       -1.51102860e-02, -4.71900403e-02,  1.39924465e-02,  4.83317338e-02,\n",
       "        5.01802936e-02,  8.79524201e-02,  1.79219618e-02,  6.39813207e-03,\n",
       "       -2.24643759e-02,  4.74482179e-02,  1.50728505e-02,  8.27512592e-02,\n",
       "       -6.78180009e-02, -1.67211033e-02, -1.05060972e-01, -3.34927589e-02,\n",
       "       -1.14934826e-02,  1.14680700e-01, -5.33420034e-02, -2.55757235e-02,\n",
       "        3.71875837e-02,  2.06048619e-02, -1.01057102e-03, -2.92227734e-02,\n",
       "       -1.52788218e-02,  1.87668800e-02, -4.44704778e-02,  4.84644175e-02,\n",
       "       -4.32561338e-02, -3.39668691e-02,  6.06973395e-02, -2.43106559e-02,\n",
       "       -3.67116481e-02, -6.68532848e-02,  8.00628290e-02, -6.51755854e-02,\n",
       "        1.00206226e-01,  5.28491475e-02,  1.90686453e-02, -3.40194218e-02,\n",
       "       -1.39727583e-02, -4.25755754e-02, -4.88260537e-02,  3.31409584e-33,\n",
       "       -3.04461196e-02,  4.66006137e-02,  6.59429953e-02,  1.58548504e-02,\n",
       "        5.18445298e-02, -1.11285463e-01, -7.19385520e-02,  1.11353947e-02,\n",
       "       -7.80499587e-03, -1.77576430e-02, -4.96776961e-02,  5.66684306e-02,\n",
       "        3.19649652e-03, -3.29484697e-03,  1.83472801e-02,  1.51457125e-03,\n",
       "        2.69042347e-02, -2.35169064e-02, -4.12273192e-04,  3.70571017e-02,\n",
       "        4.73348573e-02, -2.34229825e-02,  9.47592594e-03, -3.26817855e-02,\n",
       "       -2.51107719e-02, -2.28659175e-02,  8.23461078e-03, -2.99137528e-03,\n",
       "       -5.99211603e-02, -5.88812567e-02,  4.97731604e-02,  6.48687780e-03,\n",
       "       -7.41362572e-02, -7.99766183e-02, -5.61658591e-02,  5.26451357e-02,\n",
       "        3.28951702e-02,  8.30806196e-02,  6.93674982e-02, -3.01052537e-02,\n",
       "        1.07858300e-01, -7.14321807e-02,  6.90435320e-02,  6.71572983e-02,\n",
       "       -1.65532641e-02, -2.39523351e-02,  5.38515858e-02,  6.97804941e-03,\n",
       "       -8.95445570e-02,  8.97166952e-02, -1.09925784e-01,  6.00190237e-02,\n",
       "       -1.99127179e-02,  7.31034670e-04,  4.71866578e-02,  3.02021038e-02,\n",
       "        2.15483047e-02, -1.19711589e-02,  4.64197844e-02,  5.51533662e-02,\n",
       "        2.10850649e-02, -9.30856820e-03, -6.57360181e-02,  2.75570173e-02,\n",
       "        2.57124249e-02,  5.59246540e-02, -2.68841144e-02,  2.91879252e-02,\n",
       "       -1.84993483e-02, -8.06719344e-03, -2.09082174e-03, -1.03810102e-01,\n",
       "        4.11519781e-02,  2.44480297e-02,  5.49094900e-02,  1.12329759e-02,\n",
       "       -9.29616913e-02, -2.51414925e-02, -6.89078420e-02, -3.87894572e-03,\n",
       "        2.73873545e-02, -7.96832964e-02, -7.51664340e-02,  3.15876529e-02,\n",
       "       -2.14739088e-02,  2.12537013e-02,  7.48740509e-03,  4.36811298e-02,\n",
       "        1.73088238e-02, -4.81391996e-02, -9.02358349e-03, -1.34053407e-02,\n",
       "        3.58044282e-02, -6.07044250e-02,  2.94428878e-02, -1.56158801e-08,\n",
       "       -1.88523624e-02, -8.01694319e-02, -1.10261068e-02, -5.87670095e-02,\n",
       "       -5.15575558e-02,  2.05568317e-02, -1.77830085e-02,  2.10904498e-02,\n",
       "        4.75784838e-02,  1.80002525e-01,  4.14476991e-02,  3.22497971e-02,\n",
       "        9.02182423e-03, -5.77364676e-02,  8.95252079e-02,  1.93209082e-04,\n",
       "        3.15577560e-03,  1.96138434e-02, -4.17440645e-02,  1.11074135e-01,\n",
       "       -5.30241942e-03,  3.95678952e-02, -5.35807200e-02,  1.12638669e-02,\n",
       "        2.46389229e-02,  1.06666526e-02,  6.55427575e-02,  1.03140697e-01,\n",
       "       -9.62001365e-03,  5.77203371e-02,  7.01871812e-02,  4.63028066e-02,\n",
       "       -5.99914603e-02,  7.75418896e-03, -1.30160794e-01, -3.51252295e-02,\n",
       "       -4.02554171e-03, -6.48589954e-02,  5.80235012e-02, -4.75269146e-02,\n",
       "        6.91856258e-03,  1.00560814e-01, -2.48288014e-03,  5.87054119e-02,\n",
       "       -8.45734030e-03,  1.32161221e-02,  7.30166957e-03,  8.90114997e-03,\n",
       "       -3.70603688e-02,  7.23125413e-03, -2.07221359e-02, -4.65179747e-03,\n",
       "        1.41789969e-02, -2.49644015e-02,  7.22344369e-02,  1.13396337e-02,\n",
       "        7.57449716e-02,  8.77649337e-02,  7.50564563e-04, -1.32478744e-01,\n",
       "       -1.85236912e-02, -4.91127139e-03,  4.45579551e-02, -2.84975413e-02],\n",
       "      dtype=float32)"
      ]
     },
     "execution_count": 10,
     "metadata": {},
     "output_type": "execute_result"
    }
   ],
   "source": [
    "# Step 3: User Query and Semantic Matching\n",
    "import numpy as np\n",
    "\n",
    "query = \"Tell me about John's role.\"\n",
    "query_vec = model.encode([query])[0]\n",
    "query_vec"
   ]
  },
  {
   "cell_type": "code",
   "execution_count": 14,
   "id": "dc9019dd",
   "metadata": {},
   "outputs": [
    {
     "name": "stderr",
     "output_type": "stream",
     "text": [
      "huggingface/tokenizers: The current process just got forked, after parallelism has already been used. Disabling parallelism to avoid deadlocks...\n",
      "To disable this warning, you can either:\n",
      "\t- Avoid using `tokenizers` before the fork if possible\n",
      "\t- Explicitly set the environment variable TOKENIZERS_PARALLELISM=(true | false)\n"
     ]
    },
    {
     "name": "stdout",
     "output_type": "stream",
     "text": [
      "Requirement already satisfied: numpy in /Users/amiteshsinha/Training/2025_09_Gen_AI_Class/.venv/lib/python3.13/site-packages (2.3.3)\n",
      "Note: you may need to restart the kernel to use updated packages.\n"
     ]
    }
   ],
   "source": [
    "%pip install numpy"
   ]
  },
  {
   "cell_type": "code",
   "execution_count": 15,
   "id": "f2430ee2",
   "metadata": {},
   "outputs": [],
   "source": [
    "\n",
    "similarities = model.similarity(query_vec, doc_vectors)\n",
    "\n",
    "# Ensure it's a 1D numpy array\n",
    "similarities = np.asarray(similarities).squeeze()\n",
    "\n",
    "# Now get top 3\n",
    "top_3_indices = np.argsort(similarities)[::-1][:3]\n",
    "top_scores = similarities[top_3_indices]"
   ]
  },
  {
   "cell_type": "code",
   "execution_count": 16,
   "id": "92b28930",
   "metadata": {},
   "outputs": [
    {
     "data": {
      "text/plain": [
       "array([0.40994582, 0.39578545, 0.2616391 ], dtype=float32)"
      ]
     },
     "execution_count": 16,
     "metadata": {},
     "output_type": "execute_result"
    }
   ],
   "source": [
    "top_scores"
   ]
  },
  {
   "cell_type": "code",
   "execution_count": 17,
   "id": "0fdf3f46",
   "metadata": {},
   "outputs": [
    {
     "data": {
      "text/plain": [
       "([\"John's pay is processed on the 1st of every month.\",\n",
       "  'John is an AI architect and has salary of 500K USD.',\n",
       "  'Mark is a product manager.'],\n",
       " \"John's pay is processed on the 1st of every month.\\n---\\nJohn is an AI architect and has salary of 500K USD.\\n---\\nMark is a product manager.\")"
      ]
     },
     "execution_count": 17,
     "metadata": {},
     "output_type": "execute_result"
    }
   ],
   "source": [
    "top_docs = [documents[i]['content'] for i in top_3_indices]\n",
    "\n",
    "top_docs\n",
    "context = \"\\n---\\n\".join(top_docs)\n",
    "top_docs, context"
   ]
  },
  {
   "cell_type": "code",
   "execution_count": 20,
   "id": "ed37ac4a",
   "metadata": {},
   "outputs": [],
   "source": [
    "import os\n",
    "from dotenv import load_dotenv\n",
    "from openai import OpenAI\n",
    "\n",
    "load_dotenv(override=True, dotenv_path=\"../.env\")\n",
    "my_api_key = os.getenv(\"OPEN_AI_API_KEY\")\n",
    "\n",
    "my_client = OpenAI(api_key=my_api_key)\n",
    "# my_client\n",
    "\n",
    "def ask_question_open_ai(prompt):\n",
    "\n",
    "    # print(f\"User asked: {prompt}\")\n",
    "    # my_client.chat.completions.create\n",
    "\n",
    "    llm_response = my_client.chat.completions.create(\n",
    "        model=\"gpt-5-nano\",\n",
    "        # messages=[\n",
    "        #     {\"role\": \"system\", \"content\": \"You are a helpful assistant. Answer as concisely as possible.\"},\n",
    "        #     {\"role\": \"user\", \"content\": prompt}\n",
    "        # ]\n",
    "        messages=[\n",
    "            {\"role\": \"system\", \"content\": '''\n",
    "             You are an assistant who answers only based on the given context.\n",
    "             '''},\n",
    "            {\"role\": \"user\", \"content\": f\"Context: {context}\\n\\n User Question: {query}\"} \n",
    "        ]\n",
    "\n",
    "    )\n",
    "    return llm_response.choices[0].message.content  \n"
   ]
  },
  {
   "cell_type": "code",
   "execution_count": 21,
   "id": "c7b59025",
   "metadata": {},
   "outputs": [
    {
     "name": "stdout",
     "output_type": "stream",
     "text": [
      "Tell me about John's job role.\n"
     ]
    }
   ],
   "source": [
    "print (query)\n",
    "response = ask_question_open_ai(query)"
   ]
  },
  {
   "cell_type": "code",
   "execution_count": 22,
   "id": "1789bc74",
   "metadata": {},
   "outputs": [
    {
     "name": "stdout",
     "output_type": "stream",
     "text": [
      "User query: Tell me about John's job role.\n",
      "Context: John's pay is processed on the 1st of every month.\n",
      "---\n",
      "John is an AI architect and has salary of 500K USD.\n",
      "---\n",
      "Mark is a product manager.\n",
      "\n",
      "\n",
      "Open AI Response: John's job role is AI architect.\n"
     ]
    }
   ],
   "source": [
    "print(f\"User query: {query}\")\n",
    "print(f\"Context: {context}\")\n",
    "\n",
    "print(f\"\\n\\nOpen AI Response: {response}\")"
   ]
  },
  {
   "cell_type": "code",
   "execution_count": null,
   "id": "2be327d6",
   "metadata": {},
   "outputs": [],
   "source": []
  }
 ],
 "metadata": {
  "kernelspec": {
   "display_name": ".venv",
   "language": "python",
   "name": "python3"
  },
  "language_info": {
   "codemirror_mode": {
    "name": "ipython",
    "version": 3
   },
   "file_extension": ".py",
   "mimetype": "text/x-python",
   "name": "python",
   "nbconvert_exporter": "python",
   "pygments_lexer": "ipython3",
   "version": "3.13.5"
  }
 },
 "nbformat": 4,
 "nbformat_minor": 5
}
