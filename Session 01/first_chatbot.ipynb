{
 "cells": [
  {
   "cell_type": "code",
   "execution_count": 17,
   "id": "04aa7d71",
   "metadata": {},
   "outputs": [],
   "source": [
    "#pip install openai python-dotenv\n",
    "import os\n",
    "from dotenv import load_dotenv"
   ]
  },
  {
   "cell_type": "code",
   "execution_count": 18,
   "id": "6fb797f4",
   "metadata": {},
   "outputs": [],
   "source": [
    "load_dotenv(override=True, dotenv_path=\"../.env\")\n",
    "my_api_key = os.getenv(\"OPEN_AI_API_KEY\")\n",
    "\n",
    "# print (my_api_key)\n"
   ]
  },
  {
   "cell_type": "code",
   "execution_count": 19,
   "id": "d1ae0019",
   "metadata": {},
   "outputs": [],
   "source": [
    "#pip install openai\n",
    "from openai import OpenAI\n",
    "client = OpenAI(api_key=my_api_key)\n",
    "\n",
    "def ask_question(prompt):\n",
    "    print(f\"User asked: {prompt}\")\n",
    "    response = client.chat.completions.create(\n",
    "        model=\"gpt-5-nano\",\n",
    "        messages=[\n",
    "            {\"role\": \"system\", \"content\": \"You are a helpful assistant. Answer as concisely as possible.\"},\n",
    "            {\"role\": \"user\", \"content\": prompt}\n",
    "        ]\n",
    "    )\n",
    "    print (response)\n",
    "    return response.choices[0].message.content  \n",
    "    # response.choices[0].message.content "
   ]
  },
  {
   "cell_type": "code",
   "execution_count": null,
   "id": "a20d6cd0",
   "metadata": {},
   "outputs": [
    {
     "name": "stdout",
     "output_type": "stream",
     "text": [
      "User asked: howdy\n",
      "ChatCompletion(id='chatcmpl-CIUz23H5Kg1g42cOYmE3wxVuPR5Nk', choices=[Choice(finish_reason='stop', index=0, logprobs=None, message=ChatCompletionMessage(content='Howdy! What can I help you with today?', refusal=None, role='assistant', annotations=[], audio=None, function_call=None, tool_calls=None))], created=1758525040, model='gpt-5-nano-2025-08-07', object='chat.completion', service_tier='default', system_fingerprint=None, usage=CompletionUsage(completion_tokens=275, prompt_tokens=26, total_tokens=301, completion_tokens_details=CompletionTokensDetails(accepted_prediction_tokens=0, audio_tokens=0, reasoning_tokens=256, rejected_prediction_tokens=0), prompt_tokens_details=PromptTokensDetails(audio_tokens=0, cached_tokens=0)))\n",
      "\n",
      "OpenAI says: Howdy! What can I help you with today?\n"
     ]
    }
   ],
   "source": [
    "import time\n",
    "while True:\n",
    "    # Ask user for a question\n",
    "    user_prompt = input(\"Ask something: \")\n",
    "\n",
    "    if (user_prompt.lower() != 'quit'):\n",
    "        # Get and print the response\n",
    "        response = ask_question(user_prompt)\n",
    "        print(\"\\nOpenAI says:\", response)\n",
    "        \n",
    "        # add delay of 3 seconds\n",
    "        time.sleep(3)\n",
    "    else:\n",
    "        break    "
   ]
  },
  {
   "cell_type": "code",
   "execution_count": null,
   "id": "d89438bd",
   "metadata": {},
   "outputs": [],
   "source": []
  }
 ],
 "metadata": {
  "kernelspec": {
   "display_name": "base",
   "language": "python",
   "name": "python3"
  },
  "language_info": {
   "codemirror_mode": {
    "name": "ipython",
    "version": 3
   },
   "file_extension": ".py",
   "mimetype": "text/x-python",
   "name": "python",
   "nbconvert_exporter": "python",
   "pygments_lexer": "ipython3",
   "version": "3.12.7"
  }
 },
 "nbformat": 4,
 "nbformat_minor": 5
}
