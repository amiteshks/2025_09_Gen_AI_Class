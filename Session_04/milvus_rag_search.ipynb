{
 "cells": [
  {
   "cell_type": "markdown",
   "id": "54d064b0",
   "metadata": {},
   "source": [
    "## Milvus Vector DB for RAG "
   ]
  },
  {
   "cell_type": "markdown",
   "id": "a19397f0",
   "metadata": {},
   "source": [
    "### Create a collection of legal docs"
   ]
  },
  {
   "cell_type": "code",
   "execution_count": null,
   "id": "38ed78a5",
   "metadata": {},
   "outputs": [],
   "source": [
    "# %pip install pymilvus\n",
    "# %pip install milvus-cli"
   ]
  },
  {
   "cell_type": "code",
   "execution_count": null,
   "id": "38cf87d1",
   "metadata": {},
   "outputs": [],
   "source": [
    "from pymilvus import connections\n",
    "\n",
    "# If using Docker standalone Milvus\n",
    "connections.connect(\"default\", host=\"127.0.0.1\", port=\"19530\")"
   ]
  },
  {
   "cell_type": "code",
   "execution_count": null,
   "id": "94dd185b",
   "metadata": {},
   "outputs": [],
   "source": [
    "from pymilvus import db\n",
    "from pymilvus import Collection, FieldSchema, CollectionSchema, DataType\n",
    "\n",
    "# 1. Create a new database\n",
    "# db.create_database(\"rag_db\")\n",
    "\n",
    "# 2. Switch to that database\n",
    "db.using_database(\"rag_db\")\n",
    "\n",
    "# ----- Create schema -----\n",
    "fields = [\n",
    "    FieldSchema(\"doc_id\", DataType.INT64, is_primary=True, auto_id=False),\n",
    "    FieldSchema(\"title\", DataType.VARCHAR, max_length=200),\n",
    "    FieldSchema(\"domain\", DataType.VARCHAR, max_length=100),\n",
    "    FieldSchema(\"content\", DataType.VARCHAR, max_length=2000),\n",
    "    FieldSchema(\"embedding\", DataType.FLOAT_VECTOR, dim=384) \n",
    "]\n",
    "\n",
    "schema = CollectionSchema(fields, description=\"Policy documents with embeddings\")\n",
    "collection = Collection(\"policy_docs_collection\", schema)\n",
    "\n",
    "# ----- Create index -----\n",
    "index_params = {\n",
    "    \"index_type\": \"IVF_FLAT\",\n",
    "    \"metric_type\": \"COSINE\",\n",
    "    \"params\": {\"nlist\": 128},\n",
    "}\n",
    "collection.create_index(field_name=\"embedding\", index_params=index_params)\n"
   ]
  },
  {
   "cell_type": "code",
   "execution_count": null,
   "id": "6971b7f6",
   "metadata": {},
   "outputs": [],
   "source": [
    "import numpy as np\n",
    "from datetime import datetime\n",
    "\n",
    "\n",
    "# ----- Example data -----\n",
    "content_chunks = [\n",
    "    {\n",
    "        \"doc_id\": 1,\n",
    "        \"section\": \"Pay Policies\",\n",
    "        \"title\": \"Employee Pay Policy\",\n",
    "        \"domain\": \"Human Resources\",\n",
    "        \"content\": \"Employees are paid bi-weekly via direct deposit.\"\n",
    "    },\n",
    "    {\n",
    "        \"doc_id\": 1,\n",
    "        \"section\": \"Leave of Absence\",\n",
    "        \"title\": \"Leave Request and Approval Process\",\n",
    "        \"domain\": \"Human Resources\",\n",
    "        \"content\": \"Employees must submit a leave request for approval.\"\n",
    "    },\n",
    "    {\n",
    "        \"doc_id\": 1,\n",
    "        \"section\": \"Internet Use\",\n",
    "        \"title\": \"Acceptable Use of Company Internet\",\n",
    "        \"domain\": \"IT & Security\",\n",
    "        \"content\": \"Company internet must be used for work-related tasks only.\"\n",
    "    },\n",
    "    {\n",
    "        \"doc_id\": 2,\n",
    "        \"section\": \"Break at Work\",\n",
    "        \"title\": \"Employee Break Policy\",\n",
    "        \"domain\": \"Workplace Operations\",\n",
    "        \"content\": \"Employees can take an hour break.\"\n",
    "    },\n",
    "    {\n",
    "        \"doc_id\": 2,\n",
    "        \"section\": \"Harassment\",\n",
    "        \"title\": \"Workplace Harassment Policy\",\n",
    "        \"domain\": \"Compliance\",\n",
    "        \"content\": \"Interact with each employee with respect.\"\n",
    "    }\n",
    "]\n",
    "\n",
    "\n",
    "content_corpus = [doc[\"content\"] for doc in documents]\n",
    "\n",
    "from sentence_transformers import SentenceTransformer\n",
    "\n",
    "model = SentenceTransformer(\"all-MiniLM-L6-v2\")\n",
    "doc_vectors = model.encode(content_corpus)\n",
    "\n",
    "\n"
   ]
  },
  {
   "cell_type": "code",
   "execution_count": null,
   "id": "c7a48a79",
   "metadata": {},
   "outputs": [],
   "source": [
    "# ---- Build columnar data ----\n",
    "doc_ids = [int(i + 1) for i in range(len(documents))]             # INT64\n",
    "titles = [str(doc[\"title\"]) for doc in documents]                 # VARCHAR\n",
    "domains = [str(doc[\"domain\"]) for doc in documents]               # VARCHAR\n",
    "content = [str(doc[\"content\"]) for doc in documents]               # VARCHAR\n",
    "embeddings = [list(map(float, vec)) for vec in doc_vectors]       # FLOAT_VECTOR(768)\n",
    "\n",
    "\n",
    "# ---- Insert column-wise ----\n",
    "collection.insert([doc_ids, titles, domains, content, embeddings])\n",
    "collection.flush()\n",
    "\n",
    "print(f\"Successfully inserted {len(doc_ids)} documents into Milvus.\")\n"
   ]
  },
  {
   "cell_type": "code",
   "execution_count": null,
   "id": "321f7a28",
   "metadata": {},
   "outputs": [],
   "source": [
    "#Load the collection before searching or querying\n",
    "collection.load()\n",
    "res = collection.query(expr=\"doc_id > 0\", output_fields=[\"doc_id\", \"title\", \"domain\", \"content\", \"embedding\"])\n",
    "print(res)\n"
   ]
  },
  {
   "cell_type": "code",
   "execution_count": null,
   "id": "0cd13818",
   "metadata": {},
   "outputs": [],
   "source": [
    "# Display results\n",
    "for record in res:\n",
    "    print(f\"Doc ID: {record['doc_id']}\")\n",
    "    print(f\"Title: {record['title']}\")\n",
    "    print(f\"Domain: {record['domain']}\")\n",
    "    print(f\"Content: {record['content']}\")\n",
    "    # Show only first 5 embedding values for readability\n",
    "    print(f\"Embedding (first 5): {record['embedding'][:5]}\")\n",
    "    print(\"-\" * 80)\n"
   ]
  },
  {
   "cell_type": "code",
   "execution_count": null,
   "id": "304982b0",
   "metadata": {},
   "outputs": [],
   "source": [
    "query = \"What’s the leave policy?\"\n",
    "query_vector = model.encode([query])[0]\n",
    "query_vector[:5]  # Show only first 5 values"
   ]
  },
  {
   "cell_type": "code",
   "execution_count": null,
   "id": "2bcf32a0",
   "metadata": {},
   "outputs": [],
   "source": [
    "# Search for closest match only in the 'Human Resources' domain\n",
    "results = collection.search(\n",
    "    data=[query_vector],\n",
    "    anns_field=\"embedding\",\n",
    "    param={\"metric_type\": \"COSINE\", \"params\": {\"nprobe\": 10}},\n",
    "    limit=3,\n",
    "    expr='domain == \"Human Resources\"',\n",
    "    output_fields=[\"doc_id\", \"title\", \"domain\", \"content\"]\n",
    ")\n",
    "\n",
    "context_sring = \"\"\n",
    "for res in results[0]:\n",
    "    print(f\"doc_id={res.entity.get('doc_id')}, \"\n",
    "          f\"title={res.entity.get('title')}, \"\n",
    "          f\"domain={res.entity.get('domain')}, \"\n",
    "          f\"content={res.entity.get('content')}, \"\n",
    "          f\"score={res.distance}\")\n",
    "    context_sring += f\"\\n -- \\n {res.entity.get('content')} \" # Append content to context string\n",
    "\n",
    "print(\"\\nContext String for RAG:\\n\", context_sring)    \n"
   ]
  },
  {
   "cell_type": "code",
   "execution_count": null,
   "id": "e069bef5",
   "metadata": {},
   "outputs": [],
   "source": [
    "from llm_utlity import ask_question_open_ai \n",
    "\n",
    "query = \"What’s the leave policy?\"\n",
    "response = ask_question_open_ai(query, context_sring)\n",
    "response\n"
   ]
  },
  {
   "cell_type": "code",
   "execution_count": null,
   "id": "0f10d3f7",
   "metadata": {},
   "outputs": [],
   "source": [
    "print(f\"User query: {query}\")\n",
    "print(f\"Context: {context_sring}\")\n",
    "\n",
    "print(f\"\\n\\nOpen AI Response: {response}\")"
   ]
  }
 ],
 "metadata": {
  "kernelspec": {
   "display_name": ".venv",
   "language": "python",
   "name": "python3"
  },
  "language_info": {
   "codemirror_mode": {
    "name": "ipython",
    "version": 3
   },
   "file_extension": ".py",
   "mimetype": "text/x-python",
   "name": "python",
   "nbconvert_exporter": "python",
   "pygments_lexer": "ipython3",
   "version": "3.13.5"
  }
 },
 "nbformat": 4,
 "nbformat_minor": 5
}
