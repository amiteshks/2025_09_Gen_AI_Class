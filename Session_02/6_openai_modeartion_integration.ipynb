{
 "cells": [
  {
   "cell_type": "code",
   "execution_count": null,
   "id": "4fe22987",
   "metadata": {},
   "outputs": [],
   "source": [
    "import os\n",
    "from dotenv import load_dotenv"
   ]
  },
  {
   "cell_type": "code",
   "execution_count": null,
   "id": "bc4e0b87",
   "metadata": {},
   "outputs": [],
   "source": [
    "load_dotenv(override=True, dotenv_path=\"../.env\")\n",
    "my_api_key = os.getenv(\"OPEN_AI_API_KEY\")\n",
    "\n",
    "print (my_api_key)\n"
   ]
  },
  {
   "cell_type": "code",
   "execution_count": null,
   "id": "d1fcd1e9",
   "metadata": {},
   "outputs": [],
   "source": [
    "# %pip install openai"
   ]
  },
  {
   "cell_type": "code",
   "execution_count": null,
   "id": "35e985da",
   "metadata": {},
   "outputs": [],
   "source": [
    "from openai import OpenAI   \n",
    "client = OpenAI(api_key=my_api_key)"
   ]
  },
  {
   "cell_type": "code",
   "execution_count": null,
   "id": "f6497418",
   "metadata": {},
   "outputs": [],
   "source": [
    "def ask_question(prompt: str) -> str:\n",
    "    \"\"\"\n",
    "    Ask a question to GPT, with moderation check.\n",
    "    If the prompt is flagged, it will not be sent to the chat model.\n",
    "    \"\"\"\n",
    "    print(f\"User asked: {prompt}\")\n",
    "\n",
    "    # Step 1: Run moderation check\n",
    "    mod_result = client.moderations.create(\n",
    "        model=\"omni-moderation-latest\",\n",
    "        input=prompt\n",
    "    )\n",
    "\n",
    "    print(f\"Moderation result: {mod_result}\")\n",
    "    print(f\"mod_result.results[0].flagged result: {mod_result.results[0].flagged}\")\n",
    "    # Check if flagged\n",
    "    if mod_result.results[0].flagged:\n",
    "        print(\"Prompt was flagged by moderation. Blocking response.\")\n",
    "        return \"Sorry, your request cannot be processed as it violates safety policies.\"\n",
    "\n",
    "    # Step 2: Only query GPT if safe\n",
    "    response = client.chat.completions.create(\n",
    "        model=\"gpt-5-nano\",  # Use your desired model\n",
    "        messages=[\n",
    "            {\"role\": \"system\", \"content\": \"You are a helpful assistant. Answer as concisely as possible.\"},\n",
    "            {\"role\": \"user\", \"content\": prompt}\n",
    "        ]\n",
    "    )\n",
    "\n",
    "    answer = response.choices[0].message.content\n",
    "    print(f\"Assistant replied: {answer}\")\n",
    "    return answer\n"
   ]
  },
  {
   "cell_type": "code",
   "execution_count": null,
   "id": "73466cdd",
   "metadata": {},
   "outputs": [],
   "source": [
    "# print(ask_question(\"How do I bake a chocolate cake?\"))\n",
    "print(ask_question(\"You're really annoying and I don’t want to work with you anymore.\"))  # Will be flagged by moderation\n"
   ]
  },
  {
   "cell_type": "code",
   "execution_count": null,
   "id": "18128a09",
   "metadata": {},
   "outputs": [],
   "source": []
  }
 ],
 "metadata": {
  "kernelspec": {
   "display_name": ".venv",
   "language": "python",
   "name": "python3"
  },
  "language_info": {
   "codemirror_mode": {
    "name": "ipython",
    "version": 3
   },
   "file_extension": ".py",
   "mimetype": "text/x-python",
   "name": "python",
   "nbconvert_exporter": "python",
   "pygments_lexer": "ipython3",
   "version": "3.13.5"
  }
 },
 "nbformat": 4,
 "nbformat_minor": 5
}
