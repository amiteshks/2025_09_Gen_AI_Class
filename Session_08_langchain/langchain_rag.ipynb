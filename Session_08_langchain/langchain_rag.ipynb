{
 "cells": [
  {
   "cell_type": "code",
   "execution_count": null,
   "id": "f804d8eb",
   "metadata": {},
   "outputs": [],
   "source": []
  },
  {
   "cell_type": "code",
   "execution_count": 6,
   "id": "de736e29",
   "metadata": {},
   "outputs": [],
   "source": [
    "from langchain_community.vectorstores import Milvus\n",
    "from langchain_openai import OpenAIEmbeddings\n",
    "from langchain_openai import ChatOpenAI\n",
    "from langchain.chains import RetrievalQA\n",
    "from langchain.prompts import PromptTemplate\n",
    "from langchain.text_splitter import RecursiveCharacterTextSplitter\n",
    "from langchain.docstore.document import Document"
   ]
  },
  {
   "cell_type": "code",
   "execution_count": 14,
   "id": "ce24a7cc",
   "metadata": {},
   "outputs": [],
   "source": [
    "# --- Step 1: Create sample data ---\n",
    "texts = [\n",
    "    \"Milvus is a vector database designed for scalable similarity search.\",\n",
    "    \"Retrieval-Augmented Generation combines retrieval with generation.\",\n",
    "    \"LangChain provides tools for building RAG pipelines easily.\",\n",
    "    \"Milvus is so cool!\"\n",
    "]\n",
    "\n",
    "# --- Step 2: Create embeddings ---\n",
    "embeddings = OpenAIEmbeddings(model=\"text-embedding-3-small\")\n",
    "\n",
    "# --- Step 3: Store embeddings in Milvus ---\n",
    "vector_store = Milvus.from_texts(\n",
    "    texts,\n",
    "    embedding=embeddings,\n",
    "    connection_args={\"host\": \"localhost\", \"port\": \"19530\"},\n",
    "    collection_name=\"rag_docs\"\n",
    ")\n"
   ]
  },
  {
   "cell_type": "code",
   "execution_count": 15,
   "id": "94978d24",
   "metadata": {},
   "outputs": [
    {
     "name": "stdout",
     "output_type": "stream",
     "text": [
      "\n",
      "--- Retrieved Document 1 ---\n",
      "Milvus is so cool!\n",
      "Metadata: {'pk': 461544318759744073}\n",
      "\n",
      "--- Retrieved Document 2 ---\n",
      "Milvus is a vector database designed for scalable similarity search.\n",
      "Metadata: {'pk': 461544318759744061}\n"
     ]
    }
   ],
   "source": [
    "retriever = vector_store.as_retriever(search_kwargs={\"k\": 2})\n",
    "\n",
    "# Retrieve top 2 most similar documents for a query\n",
    "query = \"What is Milvus used for?\"\n",
    "results = retriever.get_relevant_documents(query)\n",
    "\n",
    "# Display retrieved texts\n",
    "for i, doc in enumerate(results):\n",
    "    print(f\"\\n--- Retrieved Document {i+1} ---\")\n",
    "    print(doc.page_content)\n",
    "    \n",
    "    print(\"Metadata:\", doc.metadata)\n",
    "\n"
   ]
  },
  {
   "cell_type": "code",
   "execution_count": 16,
   "id": "7e7f0005",
   "metadata": {},
   "outputs": [],
   "source": [
    "\n",
    "# # --- Step 4: Create retriever ---\n",
    "# retriever = vector_store.as_retriever(search_kwargs={\"k\": 2})\n",
    "\n",
    "# --- Step 5: Connect to LLM ---\n",
    "llm = ChatOpenAI(model=\"gpt-5-mini\")\n"
   ]
  },
  {
   "cell_type": "code",
   "execution_count": 17,
   "id": "8385c51d",
   "metadata": {},
   "outputs": [
    {
     "name": "stdout",
     "output_type": "stream",
     "text": [
      "Milvus is a vector database used to store, index and search high‑dimensional vectors (embeddings) for fast similarity search. In practice that means you use it to power applications that need to find “things that are similar” at scale.\n",
      "\n",
      "Typical uses\n",
      "- Semantic / full‑text search (retrieve passages or documents by meaning, not exact keywords)\n",
      "- Recommendation and personalization (find similar users/items)\n",
      "- Image, video and face search (find visually similar items)\n",
      "- Audio / speech search and retrieval\n",
      "- Question‑answering and knowledge retrieval (retrieve relevant contexts for LLMs)\n",
      "- Anomaly detection (find outliers in embedding space)\n",
      "\n",
      "How it’s used (high level)\n",
      "- Create embeddings from data with an ML model (text/image/audio → vector)\n",
      "- Store vectors in Milvus and build an index\n",
      "- Run nearest‑neighbor queries to retrieve similar vectors quickly\n",
      "- Post‑process results (filter, rank, display, feed to downstream models)\n",
      "\n",
      "Key advantages\n",
      "- Optimized for large-scale similarity search (billions of vectors)\n",
      "- Supports fast approximate nearest neighbor indexing and often GPU acceleration and distributed deployments\n",
      "- Integrates with ML/embedding pipelines\n",
      "\n",
      "Do you have a specific application in mind? I can suggest how to set up a Milvus-based workflow for it.\n"
     ]
    }
   ],
   "source": [
    "\n",
    "# --- Step 6: Build RAG QA Chain ---\n",
    "qa_chain = RetrievalQA.from_chain_type(\n",
    "    llm=llm,\n",
    "    retriever=retriever,\n",
    "    chain_type=\"stuff\"  # or \"map_reduce\"\n",
    ")\n",
    "\n",
    "# --- Step 7: Ask a question ---\n",
    "query = \"What is Milvus used for?\"\n",
    "response = qa_chain.run(query)\n",
    "print(response)"
   ]
  }
 ],
 "metadata": {
  "kernelspec": {
   "display_name": ".venv",
   "language": "python",
   "name": "python3"
  },
  "language_info": {
   "codemirror_mode": {
    "name": "ipython",
    "version": 3
   },
   "file_extension": ".py",
   "mimetype": "text/x-python",
   "name": "python",
   "nbconvert_exporter": "python",
   "pygments_lexer": "ipython3",
   "version": "3.13.5"
  }
 },
 "nbformat": 4,
 "nbformat_minor": 5
}
