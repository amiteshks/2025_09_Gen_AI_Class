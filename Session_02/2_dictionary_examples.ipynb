{
 "cells": [
  {
   "cell_type": "code",
   "execution_count": null,
   "id": "8fce9034",
   "metadata": {},
   "outputs": [
    {
     "name": "stdout",
     "output_type": "stream",
     "text": [
      "Alice\n",
      "30\n",
      "False\n",
      "Alice\n",
      "30\n",
      "False\n"
     ]
    }
   ],
   "source": [
    "person = {\n",
    "\t\"name\": \"Alice\",\n",
    "\t\"age\": 30,\n",
    "\t\"is_student\": False\n",
    "}\n",
    "\n",
    "#Person is a dictionary, name is a key\n",
    "\n",
    "\n",
    "person[\"name\"] #Alice\n",
    "person.get(\"name\") #Alice\n",
    "\n",
    "\n",
    "\n",
    "print(person[\"age\"])\n",
    "print(person[\"is_student\"])\n",
    "\n",
    "print(person.get(\"name\"))  \n",
    "print(person.get(\"age\"))  \n",
    "print(person.get(\"is_student\"))  \n",
    "\n"
   ]
  },
  {
   "cell_type": "code",
   "execution_count": null,
   "id": "6c871766",
   "metadata": {},
   "outputs": [
    {
     "name": "stdout",
     "output_type": "stream",
     "text": [
      "None\n",
      "1 ABC Street\n"
     ]
    },
    {
     "ename": "KeyError",
     "evalue": "'address'",
     "output_type": "error",
     "traceback": [
      "\u001b[31m---------------------------------------------------------------------------\u001b[39m",
      "\u001b[31mKeyError\u001b[39m                                  Traceback (most recent call last)",
      "\u001b[36mCell\u001b[39m\u001b[36m \u001b[39m\u001b[32mIn[7]\u001b[39m\u001b[32m, line 4\u001b[39m\n\u001b[32m      1\u001b[39m \u001b[38;5;28mprint\u001b[39m(person.get(\u001b[33m\"\u001b[39m\u001b[33maddress\u001b[39m\u001b[33m\"\u001b[39m))  \n\u001b[32m      2\u001b[39m \u001b[38;5;28mprint\u001b[39m(person.get(\u001b[33m\"\u001b[39m\u001b[33maddress\u001b[39m\u001b[33m\"\u001b[39m, \u001b[33m\"\u001b[39m\u001b[33m1 ABC Street\u001b[39m\u001b[33m\"\u001b[39m)) \n\u001b[32m----> \u001b[39m\u001b[32m4\u001b[39m \u001b[43mperson\u001b[49m\u001b[43m[\u001b[49m\u001b[33;43m\"\u001b[39;49m\u001b[33;43maddress\u001b[39;49m\u001b[33;43m\"\u001b[39;49m\u001b[43m]\u001b[49m\n",
      "\u001b[31mKeyError\u001b[39m: 'address'"
     ]
    }
   ],
   "source": [
    "print(person.get(\"address\"))  \n",
    "print(person.get(\"address\", \"1 ABC Street\")) \n",
    "\n",
    "# person[\"address\"]"
   ]
  },
  {
   "cell_type": "code",
   "execution_count": 9,
   "id": "741552b0",
   "metadata": {},
   "outputs": [
    {
     "data": {
      "text/plain": [
       "{'name': 'Alice', 'age': 31, 'is_student': False}"
      ]
     },
     "execution_count": 9,
     "metadata": {},
     "output_type": "execute_result"
    }
   ],
   "source": [
    "person[\"age\"] = 31\n",
    "person"
   ]
  },
  {
   "cell_type": "code",
   "execution_count": 10,
   "id": "1f642ecc",
   "metadata": {},
   "outputs": [
    {
     "data": {
      "text/plain": [
       "{'name': 'Alice', 'age': 31, 'is_student': False}"
      ]
     },
     "execution_count": 10,
     "metadata": {},
     "output_type": "execute_result"
    }
   ],
   "source": [
    "person"
   ]
  },
  {
   "cell_type": "code",
   "execution_count": 11,
   "id": "c4889faa",
   "metadata": {},
   "outputs": [],
   "source": [
    "del person[\"is_student\"]"
   ]
  },
  {
   "cell_type": "code",
   "execution_count": 12,
   "id": "ad64d7e3",
   "metadata": {},
   "outputs": [
    {
     "data": {
      "text/plain": [
       "{'name': 'Alice', 'age': 31}"
      ]
     },
     "execution_count": 12,
     "metadata": {},
     "output_type": "execute_result"
    }
   ],
   "source": [
    "person"
   ]
  },
  {
   "cell_type": "code",
   "execution_count": 15,
   "id": "7cb50fd5",
   "metadata": {},
   "outputs": [
    {
     "name": "stdout",
     "output_type": "stream",
     "text": [
      "[30, 20]\n",
      "30\n",
      "20\n"
     ]
    }
   ],
   "source": [
    "person_1 = {\n",
    "\t\"name\": \"Alice\",\n",
    "\t\"age\": 30,\n",
    "\t\"is_student\": False\n",
    "}\n",
    "\n",
    "person_2 = {\n",
    "\t\"name\": \"Jim\",\n",
    "\t\"age\": 20,\n",
    "\t\"is_student\": True\n",
    "}\n",
    "\n",
    "classroom = [person_1, person_2]\n",
    "classroom\n",
    "\n",
    "# Give me ages for all persons in the classroom\n",
    "ages = [person[\"age\"] for person in classroom]\n",
    "print(ages)\n",
    "\n",
    "for person in classroom:\n",
    "    print(person[\"age\"])"
   ]
  },
  {
   "cell_type": "markdown",
   "id": "96c5e894",
   "metadata": {},
   "source": [
    "## Exception Handling\n"
   ]
  },
  {
   "cell_type": "code",
   "execution_count": 33,
   "id": "4611f77d",
   "metadata": {},
   "outputs": [],
   "source": [
    "try:\n",
    "    del person[\"is_student\"]\n",
    "except Exception as e:\n",
    "    print(f\"Error in removing key: {e}\")\n"
   ]
  },
  {
   "cell_type": "code",
   "execution_count": 34,
   "id": "0fb96071",
   "metadata": {},
   "outputs": [
    {
     "name": "stdout",
     "output_type": "stream",
     "text": [
      "Error: division by zero\n"
     ]
    }
   ],
   "source": [
    "try:\n",
    "    a = 10\n",
    "    b = 0\n",
    "    print (a/b)\n",
    "except Exception as e:\n",
    "    print(f\"Error: {e}\")"
   ]
  },
  {
   "cell_type": "code",
   "execution_count": 35,
   "id": "74eb36af",
   "metadata": {},
   "outputs": [
    {
     "name": "stdout",
     "output_type": "stream",
     "text": [
      "{'name': 'Alice', 'age': 31}\n",
      "31\n",
      "{'name': 'Alice'}\n"
     ]
    }
   ],
   "source": [
    "print(person)\n",
    "print(person.pop(\"age\"))\n",
    "print(person)"
   ]
  },
  {
   "cell_type": "code",
   "execution_count": null,
   "id": "fc8e9c4d",
   "metadata": {},
   "outputs": [],
   "source": []
  }
 ],
 "metadata": {
  "kernelspec": {
   "display_name": ".venv",
   "language": "python",
   "name": "python3"
  },
  "language_info": {
   "codemirror_mode": {
    "name": "ipython",
    "version": 3
   },
   "file_extension": ".py",
   "mimetype": "text/x-python",
   "name": "python",
   "nbconvert_exporter": "python",
   "pygments_lexer": "ipython3",
   "version": "3.13.5"
  }
 },
 "nbformat": 4,
 "nbformat_minor": 5
}
