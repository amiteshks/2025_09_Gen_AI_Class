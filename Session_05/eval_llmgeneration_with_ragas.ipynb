{
 "cells": [
  {
   "cell_type": "markdown",
   "id": "ea549a39",
   "metadata": {},
   "source": [
    "## Reference Data"
   ]
  },
  {
   "cell_type": "code",
   "execution_count": 5,
   "id": "0dccf317",
   "metadata": {},
   "outputs": [],
   "source": [
    "# %pip install pytest"
   ]
  },
  {
   "cell_type": "code",
   "execution_count": 1,
   "id": "701e2922",
   "metadata": {},
   "outputs": [
    {
     "name": "stdout",
     "output_type": "stream",
     "text": [
      "question: What is the company's policy on remote work?\n",
      "ground_truth: Remote work is allowed up to 3 days per week.\n",
      "context: Remote work is allowed up to 3 days per week.\n"
     ]
    }
   ],
   "source": [
    "reference_data = [\n",
    "  {\n",
    "    \"question\": \"What is the company's policy on remote work?\", \n",
    "    \"ground_truth\": \"Remote work is allowed up to 3 days per week.\", #Expected llm generated answer\n",
    "    \"context\": \"Remote work is allowed up to 3 days per week.\" #Expected retrieved context\n",
    "  }\n",
    "]\n",
    "question = reference_data[0]['question']\n",
    "ground_truth = reference_data[0]['ground_truth']\n",
    "context = reference_data[0]['context']\n",
    "print (f\"question: {question}\")\n",
    "print (f\"ground_truth: {ground_truth}\")\n",
    "print (f\"context: {context}\")"
   ]
  },
  {
   "cell_type": "code",
   "execution_count": 2,
   "id": "9a07ec40",
   "metadata": {},
   "outputs": [
    {
     "name": "stderr",
     "output_type": "stream",
     "text": [
      "/Users/amiteshsinha/Training/2025_09_Gen_AI_Class/.venv/lib/python3.13/site-packages/tqdm/auto.py:21: TqdmWarning: IProgress not found. Please update jupyter and ipywidgets. See https://ipywidgets.readthedocs.io/en/stable/user_install.html\n",
      "  from .autonotebook import tqdm as notebook_tqdm\n"
     ]
    },
    {
     "name": "stdout",
     "output_type": "stream",
     "text": [
      "perform_retrieval.retrieved_context: Remote work is allowed up to 3 days per week.\n"
     ]
    },
    {
     "data": {
      "text/plain": [
       "'Remote work is allowed up to 3 days per week.'"
      ]
     },
     "execution_count": 2,
     "metadata": {},
     "output_type": "execute_result"
    }
   ],
   "source": [
    "# Retrieve context from Milvus DB\n",
    "\n",
    "from milvus_chatbot_with_rag import search_similar, generate_answer\n",
    "\n",
    "def perform_retrieval(question):\n",
    "\n",
    "    retrieved_context = search_similar(question, \"employee_policies\", 1)[0]['content']\n",
    "    print (f\"perform_retrieval.retrieved_context: {retrieved_context}\")\n",
    "    return retrieved_context\n",
    "\n",
    "# Generate answer using LLM\n",
    "\n",
    "question = \"What is the company's policy on remote work?\"\n",
    "context = perform_retrieval(question)\n",
    "answer = generate_answer(question, context)\n",
    "answer\n"
   ]
  },
  {
   "cell_type": "code",
   "execution_count": 3,
   "id": "6f1bb10c",
   "metadata": {},
   "outputs": [
    {
     "name": "stderr",
     "output_type": "stream",
     "text": [
      "huggingface/tokenizers: The current process just got forked, after parallelism has already been used. Disabling parallelism to avoid deadlocks...\n",
      "To disable this warning, you can either:\n",
      "\t- Avoid using `tokenizers` before the fork if possible\n",
      "\t- Explicitly set the environment variable TOKENIZERS_PARALLELISM=(true | false)\n",
      "huggingface/tokenizers: The current process just got forked, after parallelism has already been used. Disabling parallelism to avoid deadlocks...\n",
      "To disable this warning, you can either:\n",
      "\t- Avoid using `tokenizers` before the fork if possible\n",
      "\t- Explicitly set the environment variable TOKENIZERS_PARALLELISM=(true | false)\n"
     ]
    },
    {
     "name": "stdout",
     "output_type": "stream",
     "text": [
      "perform_retrieval.retrieved_context: Remote work is allowed up to 3 days per week.\n",
      "dataset_dict: {'question': [\"What is the company's policy on remote work?\"], 'contexts': [['Remote work is allowed up to 3 days per week.']], 'ground_truth': ['Remote work is allowed up to 3 days per week.'], 'answer': ['Remote work is allowed up to 3 days per week.']}\n"
     ]
    }
   ],
   "source": [
    "from datasets import Dataset\n",
    "from ragas import evaluate\n",
    "from ragas.metrics import faithfulness, answer_correctness\n",
    "\n",
    "from dotenv import load_dotenv\n",
    "from openai import OpenAI\n",
    "import os\n",
    "\n",
    "# --- Load API Key ---\n",
    "load_dotenv(override=True, dotenv_path=\"../.env\")\n",
    "my_api_key = os.getenv(\"OPENAI_API_KEY\")\n",
    "\n",
    "\n",
    "client = OpenAI(api_key=my_api_key)\n",
    "\n",
    "# Question User asked\n",
    "question = reference_data[0]['question']\n",
    "\n",
    "# Reference context (should be a string)\n",
    "reference_context = reference_data[0]['context']\n",
    "\n",
    "# ground truth answer\n",
    "ground_truth = reference_data[0]['ground_truth']\n",
    "\n",
    "# Retrieved context (a string from perform_retrieval)\n",
    "retrieved_context = [perform_retrieval(question)]\n",
    "llm_answer = generate_answer(question, retrieved_context[0])\n",
    "\n",
    "# Build dataset properly\n",
    "dataset_dict = {\n",
    "    \"question\": [question],\n",
    "    \"contexts\": [retrieved_context],    # list of strings INSIDE another list\n",
    "    \"ground_truth\": [ground_truth],   # single string/ reference answer\n",
    "    \"answer\": [llm_answer]\n",
    "}\n",
    "\n",
    "print(f\"dataset_dict: {dataset_dict}\")\n",
    "\n",
    "ragas_dataset = Dataset.from_dict(dataset_dict)\n"
   ]
  },
  {
   "cell_type": "code",
   "execution_count": null,
   "id": "b78acf47",
   "metadata": {},
   "outputs": [
    {
     "name": "stderr",
     "output_type": "stream",
     "text": [
      "Evaluating: 100%|██████████| 1/1 [00:05<00:00,  5.21s/it]\n"
     ]
    },
    {
     "name": "stdout",
     "output_type": "stream",
     "text": [
      "LLM Generation Evaluation Results:\n"
     ]
    },
    {
     "data": {
      "text/html": [
       "<div>\n",
       "<style scoped>\n",
       "    .dataframe tbody tr th:only-of-type {\n",
       "        vertical-align: middle;\n",
       "    }\n",
       "\n",
       "    .dataframe tbody tr th {\n",
       "        vertical-align: top;\n",
       "    }\n",
       "\n",
       "    .dataframe thead th {\n",
       "        text-align: right;\n",
       "    }\n",
       "</style>\n",
       "<table border=\"1\" class=\"dataframe\">\n",
       "  <thead>\n",
       "    <tr style=\"text-align: right;\">\n",
       "      <th></th>\n",
       "      <th>user_input</th>\n",
       "      <th>retrieved_contexts</th>\n",
       "      <th>response</th>\n",
       "      <th>reference</th>\n",
       "      <th>faithfulness</th>\n",
       "    </tr>\n",
       "  </thead>\n",
       "  <tbody>\n",
       "    <tr>\n",
       "      <th>0</th>\n",
       "      <td>What is the company's policy on remote work?</td>\n",
       "      <td>[Remote work is allowed up to 3 days per week.]</td>\n",
       "      <td>Remote work is allowed up to 3 days per week.</td>\n",
       "      <td>Remote work is allowed up to 3 days per week.</td>\n",
       "      <td>1.0</td>\n",
       "    </tr>\n",
       "  </tbody>\n",
       "</table>\n",
       "</div>"
      ],
      "text/plain": [
       "                                     user_input  \\\n",
       "0  What is the company's policy on remote work?   \n",
       "\n",
       "                                retrieved_contexts  \\\n",
       "0  [Remote work is allowed up to 3 days per week.]   \n",
       "\n",
       "                                        response  \\\n",
       "0  Remote work is allowed up to 3 days per week.   \n",
       "\n",
       "                                       reference  faithfulness  \n",
       "0  Remote work is allowed up to 3 days per week.           1.0  "
      ]
     },
     "execution_count": 4,
     "metadata": {},
     "output_type": "execute_result"
    }
   ],
   "source": [
    "results = evaluate(\n",
    "    dataset=ragas_dataset,\n",
    "    metrics=[faithfulness]  # just one metric\n",
    ")\n",
    "\n",
    "\n",
    "print(\"LLM Generation Evaluation Results:\")\n",
    "results.to_pandas()\n",
    "\n"
   ]
  },
  {
   "cell_type": "code",
   "execution_count": 5,
   "id": "fd575dad",
   "metadata": {},
   "outputs": [
    {
     "name": "stderr",
     "output_type": "stream",
     "text": [
      "Evaluating: 100%|██████████| 1/1 [00:24<00:00, 24.45s/it]\n"
     ]
    },
    {
     "name": "stdout",
     "output_type": "stream",
     "text": [
      "LLM Generation Evaluation Results:\n",
      "                                     user_input  \\\n",
      "0  What is the company's policy on remote work?   \n",
      "\n",
      "                                retrieved_contexts  \\\n",
      "0  [Remote work is allowed up to 3 days per week.]   \n",
      "\n",
      "                                        response  \\\n",
      "0  Remote work is allowed up to 3 days per week.   \n",
      "\n",
      "                                       reference  answer_correctness  \n",
      "0  Remote work is allowed up to 3 days per week.                 1.0  \n"
     ]
    }
   ],
   "source": [
    "from ragas.llms.base import llm_factory\n",
    "from ragas import evaluate\n",
    "from ragas.metrics import answer_correctness\n",
    "\n",
    "# Create the modern LLM wrapper\n",
    "llm = llm_factory(\"gpt-4o-mini\")\n",
    "\n",
    "# Run evaluation\n",
    "results = evaluate(\n",
    "    dataset=ragas_dataset,\n",
    "    metrics=[answer_correctness],\n",
    "    llm=llm\n",
    ")\n",
    "\n",
    "print(\"LLM Generation Evaluation Results:\")\n",
    "print(results.to_pandas())\n"
   ]
  },
  {
   "cell_type": "markdown",
   "id": "a2b345e3",
   "metadata": {},
   "source": [
    "## "
   ]
  }
 ],
 "metadata": {
  "kernelspec": {
   "display_name": ".venv",
   "language": "python",
   "name": "python3"
  },
  "language_info": {
   "codemirror_mode": {
    "name": "ipython",
    "version": 3
   },
   "file_extension": ".py",
   "mimetype": "text/x-python",
   "name": "python",
   "nbconvert_exporter": "python",
   "pygments_lexer": "ipython3",
   "version": "3.13.5"
  }
 },
 "nbformat": 4,
 "nbformat_minor": 5
}
