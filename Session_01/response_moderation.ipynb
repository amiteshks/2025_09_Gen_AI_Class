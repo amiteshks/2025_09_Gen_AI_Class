{
 "cells": [
  {
   "cell_type": "markdown",
   "id": "ab26025b",
   "metadata": {},
   "source": [
    "### Write a program that checks for these toxic terms in the response:\n",
    "\n",
    "toxic_list = [\"kill\", \"harm\", \"cheat\"]\n",
    "\n",
    "response = \"......\"\n",
    "\n",
    "\n",
    "If any of the terms are found, print that System can't print this response."
   ]
  },
  {
   "cell_type": "code",
   "execution_count": 2,
   "id": "39fe6501",
   "metadata": {},
   "outputs": [],
   "source": [
    "toxic_list = [\"kill\", \"harm\", \"cheat\"]"
   ]
  },
  {
   "cell_type": "code",
   "execution_count": 7,
   "id": "78b6db8e",
   "metadata": {},
   "outputs": [
    {
     "name": "stdout",
     "output_type": "stream",
     "text": [
      "kill\n",
      "harm\n",
      "cheat\n",
      "System can't print this response as this has toxic content 'cheat'\n"
     ]
    }
   ],
   "source": [
    "response = \"The user wants to cheat in the exam.\"\n",
    "for toxic_term in toxic_list:\n",
    "    print (toxic_term)\n",
    "    if toxic_term in response.lower():\n",
    "        print (f\"System can't print this response as this has toxic content '{toxic_term}'\")\n",
    "        break"
   ]
  },
  {
   "cell_type": "code",
   "execution_count": null,
   "id": "c68a5e16",
   "metadata": {},
   "outputs": [],
   "source": []
  }
 ],
 "metadata": {
  "kernelspec": {
   "display_name": "base",
   "language": "python",
   "name": "python3"
  },
  "language_info": {
   "codemirror_mode": {
    "name": "ipython",
    "version": 3
   },
   "file_extension": ".py",
   "mimetype": "text/x-python",
   "name": "python",
   "nbconvert_exporter": "python",
   "pygments_lexer": "ipython3",
   "version": "3.12.7"
  }
 },
 "nbformat": 4,
 "nbformat_minor": 5
}
