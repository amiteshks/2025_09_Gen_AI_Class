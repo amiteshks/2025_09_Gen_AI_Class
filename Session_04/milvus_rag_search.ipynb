{
 "cells": [
  {
   "cell_type": "markdown",
   "id": "54d064b0",
   "metadata": {},
   "source": [
    "## Milvus Vector DB for RAG "
   ]
  },
  {
   "cell_type": "markdown",
   "id": "a19397f0",
   "metadata": {},
   "source": [
    "### Create a collection of legal docs"
   ]
  },
  {
   "cell_type": "code",
   "execution_count": null,
   "id": "38ed78a5",
   "metadata": {},
   "outputs": [],
   "source": [
    "# %pip install pymilvus\n",
    "# %pip install milvus-cli"
   ]
  },
  {
   "cell_type": "code",
   "execution_count": 1,
   "id": "38cf87d1",
   "metadata": {},
   "outputs": [],
   "source": [
    "from pymilvus import connections\n",
    "\n",
    "# If using Docker standalone Milvus\n",
    "connections.connect(\"default\", host=\"127.0.0.1\", port=\"19530\")"
   ]
  },
  {
   "cell_type": "code",
   "execution_count": 2,
   "id": "94dd185b",
   "metadata": {},
   "outputs": [
    {
     "data": {
      "text/plain": [
       "Status(code=0, message=)"
      ]
     },
     "execution_count": 2,
     "metadata": {},
     "output_type": "execute_result"
    }
   ],
   "source": [
    "from pymilvus import db\n",
    "from pymilvus import Collection, FieldSchema, CollectionSchema, DataType\n",
    "\n",
    "# 1. Create a new database\n",
    "# db.create_database(\"rag_db\")\n",
    "\n",
    "# 2. Switch to that database\n",
    "db.using_database(\"rag_db\")\n",
    "\n",
    "# ----- Create schema -----\n",
    "fields = [\n",
    "    FieldSchema(\"doc_id\", DataType.INT64, is_primary=True, auto_id=False),\n",
    "    FieldSchema(\"title\", DataType.VARCHAR, max_length=200),\n",
    "    FieldSchema(\"domain\", DataType.VARCHAR, max_length=100),\n",
    "    FieldSchema(\"content\", DataType.VARCHAR, max_length=2000),\n",
    "    FieldSchema(\"embedding\", DataType.FLOAT_VECTOR, dim=384) \n",
    "]\n",
    "\n",
    "schema = CollectionSchema(fields, description=\"Policy documents with embeddings\")\n",
    "collection = Collection(\"policy_docs_collection\", schema)\n",
    "\n",
    "# ----- Create index -----\n",
    "index_params = {\n",
    "    \"index_type\": \"IVF_FLAT\",\n",
    "    \"metric_type\": \"COSINE\",\n",
    "    \"params\": {\"nlist\": 128},\n",
    "}\n",
    "collection.create_index(field_name=\"embedding\", index_params=index_params)\n"
   ]
  },
  {
   "cell_type": "code",
   "execution_count": 5,
   "id": "6971b7f6",
   "metadata": {},
   "outputs": [
    {
     "name": "stdout",
     "output_type": "stream",
     "text": [
      "['Employees are paid bi-weekly via direct deposit.', 'Employees must submit a leave request for approval.', 'Company internet must be used for work-related tasks only.', 'Employees can take an hour break.', 'Interact with each employee with respect.']\n"
     ]
    },
    {
     "data": {
      "text/plain": [
       "(5, 384)"
      ]
     },
     "execution_count": 5,
     "metadata": {},
     "output_type": "execute_result"
    }
   ],
   "source": [
    "\n",
    "# ----- Example data -----\n",
    "content_chunks = [\n",
    "    {\n",
    "        \"doc_id\": 1,\n",
    "        \"section\": \"Pay Policies\",\n",
    "        \"title\": \"Employee Pay Policy\",\n",
    "        \"domain\": \"Human Resources\",\n",
    "        \"content\": \"Employees are paid bi-weekly via direct deposit.\"\n",
    "    },\n",
    "    {\n",
    "        \"doc_id\": 1,\n",
    "        \"section\": \"Leave of Absence\",\n",
    "        \"title\": \"Leave Request and Approval Process\",\n",
    "        \"domain\": \"Human Resources\",\n",
    "        \"content\": \"Employees must submit a leave request for approval.\"\n",
    "    },\n",
    "    {\n",
    "        \"doc_id\": 1,\n",
    "        \"section\": \"Internet Use\",\n",
    "        \"title\": \"Acceptable Use of Company Internet\",\n",
    "        \"domain\": \"IT & Security\",\n",
    "        \"content\": \"Company internet must be used for work-related tasks only.\"\n",
    "    },\n",
    "    {\n",
    "        \"doc_id\": 2,\n",
    "        \"section\": \"Break at Work\",\n",
    "        \"title\": \"Employee Break Policy\",\n",
    "        \"domain\": \"Workplace Operations\",\n",
    "        \"content\": \"Employees can take an hour break.\"\n",
    "    },\n",
    "    {\n",
    "        \"doc_id\": 2,\n",
    "        \"section\": \"Harassment\",\n",
    "        \"title\": \"Workplace Harassment Policy\",\n",
    "        \"domain\": \"Compliance\",\n",
    "        \"content\": \"Interact with each employee with respect.\"\n",
    "    }\n",
    "]\n",
    "\n",
    "\n",
    "# content_chunks_list = []\n",
    "# for chunk in content_chunks:\n",
    "#     content_chunks_list.append(chunk[\"content\"])\n",
    "content_chunks_list = [chunk[\"content\"] for chunk in content_chunks]\n",
    "print(content_chunks_list)\n",
    "from sentence_transformers import SentenceTransformer\n",
    "model = SentenceTransformer(\"all-MiniLM-L6-v2\")\n",
    "\n",
    "doc_vectors = model.encode(content_chunks_list)\n",
    "doc_vectors.shape\n",
    "\n"
   ]
  },
  {
   "cell_type": "code",
   "execution_count": 6,
   "id": "c7a48a79",
   "metadata": {},
   "outputs": [
    {
     "name": "stdout",
     "output_type": "stream",
     "text": [
      "Successfully inserted 5 documents into Milvus.\n"
     ]
    }
   ],
   "source": [
    "# ---- Build columnar data ----\n",
    "doc_ids = [int(i + 1) for i in range(len(content_chunks))]             # INT64\n",
    "titles = [str(doc[\"title\"]) for doc in content_chunks]                 # VARCHAR\n",
    "domains = [str(doc[\"domain\"]) for doc in content_chunks]               # VARCHAR\n",
    "content = [str(doc[\"content\"]) for doc in content_chunks]               # VARCHAR\n",
    "embeddings = [list(map(float, vec)) for vec in doc_vectors]       # FLOAT_VECTOR(768)\n",
    "\n",
    "\n",
    "# ---- Insert column-wise ----\n",
    "collection.insert([doc_ids, titles, domains, content, embeddings])\n",
    "collection.flush()\n",
    "\n",
    "print(f\"Successfully inserted {len(doc_ids)} documents into Milvus.\")\n"
   ]
  },
  {
   "cell_type": "code",
   "execution_count": 9,
   "id": "321f7a28",
   "metadata": {},
   "outputs": [
    {
     "name": "stdout",
     "output_type": "stream",
     "text": [
      "data: [\"{'doc_id': 1, 'title': 'Employee Pay Policy', 'domain': 'Human Resources', 'content': 'Employees are paid bi-weekly via direct deposit.'}\", \"{'doc_id': 2, 'title': 'Leave Request and Approval Process', 'domain': 'Human Resources', 'content': 'Employees must submit a leave request for approval.'}\", \"{'doc_id': 3, 'title': 'Acceptable Use of Company Internet', 'domain': 'IT & Security', 'content': 'Company internet must be used for work-related tasks only.'}\", \"{'doc_id': 4, 'title': 'Employee Break Policy', 'domain': 'Workplace Operations', 'content': 'Employees can take an hour break.'}\", \"{'doc_id': 5, 'title': 'Workplace Harassment Policy', 'domain': 'Compliance', 'content': 'Interact with each employee with respect.'}\"], extra_info: {}\n"
     ]
    }
   ],
   "source": [
    "#Load the collection before searching or querying\n",
    "collection.load()\n",
    "res = collection.query(expr=\"doc_id > 0\", output_fields=[\"doc_id\", \"title\", \"domain\", \"content\"])\n",
    "print(res)\n"
   ]
  },
  {
   "cell_type": "code",
   "execution_count": 8,
   "id": "0cd13818",
   "metadata": {},
   "outputs": [
    {
     "name": "stdout",
     "output_type": "stream",
     "text": [
      "Doc ID: 1\n",
      "Title: Employee Pay Policy\n",
      "Domain: Human Resources\n",
      "Content: Employees are paid bi-weekly via direct deposit.\n",
      "Embedding (first 5): [0.024725137278437614, -0.009081455878913403, 0.038871295750141144, 0.03230151906609535, -0.058905523270368576]\n",
      "--------------------------------------------------------------------------------\n",
      "Doc ID: 2\n",
      "Title: Leave Request and Approval Process\n",
      "Domain: Human Resources\n",
      "Content: Employees must submit a leave request for approval.\n",
      "Embedding (first 5): [0.03315506502985954, 0.048533786088228226, 0.04736274480819702, 0.02527041547000408, 0.05931208282709122]\n",
      "--------------------------------------------------------------------------------\n",
      "Doc ID: 3\n",
      "Title: Acceptable Use of Company Internet\n",
      "Domain: IT & Security\n",
      "Content: Company internet must be used for work-related tasks only.\n",
      "Embedding (first 5): [-0.0713590756058693, -0.03066469170153141, 0.031837716698646545, -0.07750097662210464, -0.00503249978646636]\n",
      "--------------------------------------------------------------------------------\n",
      "Doc ID: 4\n",
      "Title: Employee Break Policy\n",
      "Domain: Workplace Operations\n",
      "Content: Employees can take an hour break.\n",
      "Embedding (first 5): [-0.01790444925427437, 0.014958517625927925, 0.08163831382989883, -0.0036294423043727875, 0.032004185020923615]\n",
      "--------------------------------------------------------------------------------\n",
      "Doc ID: 5\n",
      "Title: Workplace Harassment Policy\n",
      "Domain: Compliance\n",
      "Content: Interact with each employee with respect.\n",
      "Embedding (first 5): [-0.0034850339870899916, 0.039560478180646896, -0.0738821029663086, -0.07385559380054474, -0.07667551934719086]\n",
      "--------------------------------------------------------------------------------\n"
     ]
    }
   ],
   "source": [
    "# Display results\n",
    "for record in res:\n",
    "    print(f\"Doc ID: {record['doc_id']}\")\n",
    "    print(f\"Title: {record['title']}\")\n",
    "    print(f\"Domain: {record['domain']}\")\n",
    "    print(f\"Content: {record['content']}\")\n",
    "    # Show only first 5 embedding values for readability\n",
    "    print(f\"Embedding (first 5): {record['embedding'][:5]}\")\n",
    "    print(\"-\" * 80)\n"
   ]
  },
  {
   "cell_type": "code",
   "execution_count": 10,
   "id": "304982b0",
   "metadata": {},
   "outputs": [
    {
     "data": {
      "text/plain": [
       "array([0.0604582 , 0.03882856, 0.01172254, 0.03124589, 0.12124222],\n",
       "      dtype=float32)"
      ]
     },
     "execution_count": 10,
     "metadata": {},
     "output_type": "execute_result"
    }
   ],
   "source": [
    "query = \"What’s the leave policy?\"\n",
    "query_vector = model.encode([query])[0]\n",
    "query_vector[:5]  # Show only first 5 values"
   ]
  },
  {
   "cell_type": "code",
   "execution_count": 11,
   "id": "2bcf32a0",
   "metadata": {},
   "outputs": [
    {
     "name": "stdout",
     "output_type": "stream",
     "text": [
      "doc_id=2, title=Leave Request and Approval Process, domain=Human Resources, content=Employees must submit a leave request for approval., score=0.61988365650177\n",
      "doc_id=1, title=Employee Pay Policy, domain=Human Resources, content=Employees are paid bi-weekly via direct deposit., score=0.23205099999904633\n",
      "\n",
      "Context String for RAG:\n",
      " \n",
      " -- \n",
      " Employees must submit a leave request for approval. \n",
      " -- \n",
      " Employees are paid bi-weekly via direct deposit. \n"
     ]
    }
   ],
   "source": [
    "# Search for closest match only in the 'Human Resources' domain\n",
    "results = collection.search(\n",
    "    data=[query_vector],\n",
    "    anns_field=\"embedding\",\n",
    "    param={\"metric_type\": \"COSINE\", \"params\": {\"nprobe\": 10}},\n",
    "    limit=3,\n",
    "    expr='domain == \"Human Resources\"',\n",
    "    output_fields=[\"doc_id\", \"title\", \"domain\", \"content\"]\n",
    ")\n",
    "\n",
    "context_sring = \"\"\n",
    "for res in results[0]:\n",
    "    print(f\"doc_id={res.entity.get('doc_id')}, \"\n",
    "          f\"title={res.entity.get('title')}, \"\n",
    "          f\"domain={res.entity.get('domain')}, \"\n",
    "          f\"content={res.entity.get('content')}, \"\n",
    "          f\"score={res.distance}\")\n",
    "    context_sring += f\"\\n -- \\n {res.entity.get('content')} \" # Append content to context string\n",
    "\n",
    "print(\"\\nContext String for RAG:\\n\", context_sring)    \n"
   ]
  },
  {
   "cell_type": "code",
   "execution_count": 12,
   "id": "e069bef5",
   "metadata": {},
   "outputs": [
    {
     "data": {
      "text/plain": [
       "'The only stated leave policy is: employees must submit a leave request for approval. (No other details are provided in the context.)'"
      ]
     },
     "execution_count": 12,
     "metadata": {},
     "output_type": "execute_result"
    }
   ],
   "source": [
    "from llm_utlity import ask_question_open_ai \n",
    "\n",
    "query = \"What’s the leave policy?\"\n",
    "response = ask_question_open_ai(query, context_sring)\n",
    "response\n"
   ]
  },
  {
   "cell_type": "code",
   "execution_count": 13,
   "id": "0f10d3f7",
   "metadata": {},
   "outputs": [
    {
     "name": "stdout",
     "output_type": "stream",
     "text": [
      "User query: What’s the leave policy?\n",
      "Context: \n",
      " -- \n",
      " Employees must submit a leave request for approval. \n",
      " -- \n",
      " Employees are paid bi-weekly via direct deposit. \n",
      "\n",
      "\n",
      "Open AI Response: The only stated leave policy is: employees must submit a leave request for approval. (No other details are provided in the context.)\n"
     ]
    }
   ],
   "source": [
    "print(f\"User query: {query}\")\n",
    "print(f\"Context: {context_sring}\")\n",
    "\n",
    "print(f\"\\n\\nOpen AI Response: {response}\")"
   ]
  }
 ],
 "metadata": {
  "kernelspec": {
   "display_name": ".venv",
   "language": "python",
   "name": "python3"
  },
  "language_info": {
   "codemirror_mode": {
    "name": "ipython",
    "version": 3
   },
   "file_extension": ".py",
   "mimetype": "text/x-python",
   "name": "python",
   "nbconvert_exporter": "python",
   "pygments_lexer": "ipython3",
   "version": "3.13.5"
  }
 },
 "nbformat": 4,
 "nbformat_minor": 5
}
