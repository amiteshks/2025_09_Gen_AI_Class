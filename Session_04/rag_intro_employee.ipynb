{
 "cells": [
  {
   "cell_type": "markdown",
   "id": "865d6195",
   "metadata": {},
   "source": []
  },
  {
   "cell_type": "code",
   "execution_count": null,
   "id": "75fd629b",
   "metadata": {},
   "outputs": [],
   "source": [
    "\n",
    "# Step 1: Define Sample Documents\n",
    "documents = [\n",
    "    {\"section\": \"Employee Info\", \"content\": \"John's pay is processed on the 1st of every month.\"},\n",
    "    {\"section\": \"Employee Info\", \"content\": \"Mark is on a leave of absence until next Monday.\"},\n",
    "    {\"section\": \"Employee Info\", \"content\": \"Julie is a software engineer.\"},\n",
    "    {\"section\": \"Employee Info\", \"content\": \"Julie's pay is processed on the 1st of every month.\"},\n",
    "    {\"section\": \"Employee Info\", \"content\": \"Mark is a product manager.\"},\n",
    "    {\"section\": \"Employee Info\", \"content\": \"John is an AI architect and has salary of 500K USD.\"},\n",
    "]\n",
    "\n",
    "# Step 2: Get Content Texts\n",
    "content_corpus = [doc[\"content\"] for doc in documents]\n",
    "content_corpus"
   ]
  },
  {
   "cell_type": "code",
   "execution_count": null,
   "id": "7115b44b",
   "metadata": {},
   "outputs": [],
   "source": [
    "%pip install -q sentence-transformers"
   ]
  },
  {
   "cell_type": "code",
   "execution_count": null,
   "id": "01d063c9",
   "metadata": {},
   "outputs": [],
   "source": [
    "from sentence_transformers import SentenceTransformer\n",
    "\n",
    "model = SentenceTransformer(\"all-MiniLM-L6-v2\")\n",
    "doc_vectors = model.encode(content_corpus)"
   ]
  },
  {
   "cell_type": "code",
   "execution_count": null,
   "id": "f145d4dc",
   "metadata": {},
   "outputs": [],
   "source": [
    "doc_vectors\n",
    "print(doc_vectors.shape)"
   ]
  },
  {
   "cell_type": "code",
   "execution_count": null,
   "id": "8d5c5714",
   "metadata": {},
   "outputs": [],
   "source": [
    "# Step 3: User Query and Semantic Matching\n",
    "import numpy as np\n",
    "\n",
    "query = \"Tell me about John's role.\"\n",
    "query_vec = model.encode([query])[0]\n",
    "query_vec"
   ]
  },
  {
   "cell_type": "code",
   "execution_count": null,
   "id": "dc9019dd",
   "metadata": {},
   "outputs": [],
   "source": [
    "%pip install numpy"
   ]
  },
  {
   "cell_type": "code",
   "execution_count": null,
   "id": "f2430ee2",
   "metadata": {},
   "outputs": [],
   "source": [
    "\n",
    "similarities = model.similarity(query_vec, doc_vectors)\n",
    "\n",
    "# Ensure it's a 1D numpy array\n",
    "similarities = np.asarray(similarities).squeeze()\n",
    "\n",
    "# Now get top 3\n",
    "top_3_indices = np.argsort(similarities)[::-1][:3]\n",
    "top_scores = similarities[top_3_indices]"
   ]
  },
  {
   "cell_type": "code",
   "execution_count": null,
   "id": "92b28930",
   "metadata": {},
   "outputs": [],
   "source": [
    "top_scores"
   ]
  },
  {
   "cell_type": "code",
   "execution_count": null,
   "id": "0fdf3f46",
   "metadata": {},
   "outputs": [],
   "source": [
    "top_docs = [documents[i]['content'] for i in top_3_indices]\n",
    "\n",
    "top_docs\n",
    "context = \"\\n---\\n\".join(top_docs)\n",
    "top_docs, context"
   ]
  },
  {
   "cell_type": "code",
   "execution_count": null,
   "id": "ed37ac4a",
   "metadata": {},
   "outputs": [],
   "source": [
    "import os\n",
    "from dotenv import load_dotenv\n",
    "from openai import OpenAI\n",
    "\n",
    "load_dotenv(override=True, dotenv_path=\"../.env\")\n",
    "my_api_key = os.getenv(\"OPEN_AI_API_KEY\")\n",
    "\n",
    "my_client = OpenAI(api_key=my_api_key)\n",
    "# my_client\n",
    "\n",
    "def ask_question_open_ai(prompt):\n",
    "\n",
    "    # print(f\"User asked: {prompt}\")\n",
    "    # my_client.chat.completions.create\n",
    "\n",
    "    llm_response = my_client.chat.completions.create(\n",
    "        model=\"gpt-5-nano\",\n",
    "        # messages=[\n",
    "        #     {\"role\": \"system\", \"content\": \"You are a helpful assistant. Answer as concisely as possible.\"},\n",
    "        #     {\"role\": \"user\", \"content\": prompt}\n",
    "        # ]\n",
    "        messages=[\n",
    "            {\"role\": \"system\", \"content\": '''\n",
    "             You are an assistant who answers only based on the given context.\n",
    "             '''},\n",
    "            {\"role\": \"user\", \"content\": f\"Context: {context}\\n\\n User Question: {query}\"} \n",
    "        ]\n",
    "\n",
    "    )\n",
    "    return llm_response.choices[0].message.content  \n"
   ]
  },
  {
   "cell_type": "code",
   "execution_count": null,
   "id": "c7b59025",
   "metadata": {},
   "outputs": [],
   "source": [
    "print (query)\n",
    "response = ask_question_open_ai(query)"
   ]
  },
  {
   "cell_type": "code",
   "execution_count": null,
   "id": "1789bc74",
   "metadata": {},
   "outputs": [],
   "source": [
    "print(f\"User query: {query}\")\n",
    "print(f\"Context: {context}\")\n",
    "\n",
    "print(f\"\\n\\nOpen AI Response: {response}\")"
   ]
  },
  {
   "cell_type": "code",
   "execution_count": null,
   "id": "2be327d6",
   "metadata": {},
   "outputs": [],
   "source": []
  }
 ],
 "metadata": {
  "kernelspec": {
   "display_name": ".venv",
   "language": "python",
   "name": "python3"
  },
  "language_info": {
   "codemirror_mode": {
    "name": "ipython",
    "version": 3
   },
   "file_extension": ".py",
   "mimetype": "text/x-python",
   "name": "python",
   "nbconvert_exporter": "python",
   "pygments_lexer": "ipython3",
   "version": "3.13.5"
  }
 },
 "nbformat": 4,
 "nbformat_minor": 5
}
