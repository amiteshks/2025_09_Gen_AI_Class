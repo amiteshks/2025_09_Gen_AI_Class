{
 "cells": [
  {
   "cell_type": "markdown",
   "id": "865d6195",
   "metadata": {},
   "source": []
  },
  {
   "cell_type": "code",
   "execution_count": 12,
   "id": "75fd629b",
   "metadata": {},
   "outputs": [
    {
     "data": {
      "text/plain": [
       "[\"John's pay is processed on the 1st of every month.\",\n",
       " 'Mark is on a leave of absence until next Monday.',\n",
       " 'Julie is a software engineer.',\n",
       " \"Julie's pay is processed on the 1st of every month.\",\n",
       " 'Mark is a product manager.',\n",
       " 'John is an AI architect and has salary of 500K USD.']"
      ]
     },
     "execution_count": 12,
     "metadata": {},
     "output_type": "execute_result"
    }
   ],
   "source": [
    "\n",
    "# Step 1: Define Sample Documents\n",
    "documents = [\n",
    "    {\"section\": \"Employee Info\", \"content\": \"John's pay is processed on the 1st of every month.\"},\n",
    "    {\"section\": \"Employee Info\", \"content\": \"Mark is on a leave of absence until next Monday.\"},\n",
    "    {\"section\": \"Employee Info\", \"content\": \"Julie is a software engineer.\"},\n",
    "    {\"section\": \"Employee Info\", \"content\": \"Julie's pay is processed on the 1st of every month.\"},\n",
    "    {\"section\": \"Employee Info\", \"content\": \"Mark is a product manager.\"},\n",
    "    {\"section\": \"Employee Info\", \"content\": \"John is an AI architect and has salary of 500K USD.\"},\n",
    "]\n",
    "\n",
    "# Step 2: Get Content Texts\n",
    "content_corpus = [doc[\"content\"] for doc in documents]\n",
    "content_corpus"
   ]
  },
  {
   "cell_type": "code",
   "execution_count": 13,
   "id": "7115b44b",
   "metadata": {},
   "outputs": [
    {
     "name": "stderr",
     "output_type": "stream",
     "text": [
      "huggingface/tokenizers: The current process just got forked, after parallelism has already been used. Disabling parallelism to avoid deadlocks...\n",
      "To disable this warning, you can either:\n",
      "\t- Avoid using `tokenizers` before the fork if possible\n",
      "\t- Explicitly set the environment variable TOKENIZERS_PARALLELISM=(true | false)\n"
     ]
    },
    {
     "name": "stdout",
     "output_type": "stream",
     "text": [
      "Note: you may need to restart the kernel to use updated packages.\n"
     ]
    }
   ],
   "source": [
    "%pip install -q sentence-transformers"
   ]
  },
  {
   "cell_type": "code",
   "execution_count": 14,
   "id": "01d063c9",
   "metadata": {},
   "outputs": [],
   "source": [
    "from sentence_transformers import SentenceTransformer\n",
    "\n",
    "model = SentenceTransformer(\"all-MiniLM-L6-v2\")\n",
    "doc_vectors = model.encode(content_corpus)"
   ]
  },
  {
   "cell_type": "code",
   "execution_count": 15,
   "id": "f145d4dc",
   "metadata": {},
   "outputs": [
    {
     "data": {
      "text/plain": [
       "array([[-0.04595948,  0.01248904,  0.02014634, ..., -0.07168268,\n",
       "         0.06206652, -0.02307062],\n",
       "       [ 0.01152449, -0.0042987 ,  0.06208021, ..., -0.03832173,\n",
       "        -0.01415213,  0.04418526],\n",
       "       [-0.04009407, -0.0479057 , -0.01047251, ...,  0.00029134,\n",
       "         0.12071934, -0.00028944],\n",
       "       [-0.04454852, -0.0229358 , -0.02192589, ..., -0.04162   ,\n",
       "         0.09864228, -0.02970469],\n",
       "       [-0.0095519 , -0.06924053,  0.03345447, ..., -0.08885367,\n",
       "         0.07931168,  0.0559937 ],\n",
       "       [-0.00961918,  0.00769998,  0.02414494, ..., -0.06450296,\n",
       "         0.01247326, -0.02879707]], shape=(6, 384), dtype=float32)"
      ]
     },
     "execution_count": 15,
     "metadata": {},
     "output_type": "execute_result"
    }
   ],
   "source": [
    "doc_vectors"
   ]
  },
  {
   "cell_type": "code",
   "execution_count": 16,
   "id": "8d5c5714",
   "metadata": {},
   "outputs": [
    {
     "data": {
      "text/plain": [
       "array([-6.51649684e-02,  3.61150764e-02,  4.62175496e-02, -7.34472135e-03,\n",
       "       -3.10224984e-02,  8.05633664e-02,  3.45326066e-02, -4.65819938e-03,\n",
       "       -1.10947274e-01, -1.79800822e-03, -2.65288036e-02,  9.32842195e-02,\n",
       "        2.82098576e-02,  1.08933551e-02, -7.03792572e-02, -1.04782647e-02,\n",
       "       -1.89243830e-04,  5.41325249e-02, -2.91238800e-02, -7.49230757e-02,\n",
       "        3.70897390e-02,  7.83124380e-03,  3.26573998e-02, -5.75900823e-02,\n",
       "        1.00327563e-02, -4.39469330e-03, -4.21557343e-03,  5.77472858e-02,\n",
       "       -4.81638759e-02, -7.59086162e-02, -3.83208506e-02, -9.13320854e-03,\n",
       "        4.12793271e-02,  1.35801379e-02, -6.89527541e-02,  7.94207677e-02,\n",
       "        1.30519113e-02,  2.58197337e-02,  1.66705791e-02, -4.17594612e-02,\n",
       "        2.73222141e-02, -6.54361323e-02,  2.87316982e-02,  5.96740795e-03,\n",
       "       -3.59649886e-03, -7.40957931e-02,  3.88318300e-02, -4.59655076e-02,\n",
       "       -2.59812642e-02, -8.45156424e-03, -6.22111820e-02,  1.27522124e-03,\n",
       "        2.08584778e-02, -3.27730291e-02,  3.68582793e-02,  5.07819206e-02,\n",
       "       -1.90378688e-02, -1.89960599e-02, -2.90079881e-02, -8.01082999e-02,\n",
       "       -3.69938351e-02, -2.45738891e-03, -6.62201643e-02,  4.16628011e-02,\n",
       "        5.46260886e-02, -1.14932276e-01, -8.75748172e-02, -8.09145719e-03,\n",
       "       -3.67168300e-02, -3.34164761e-02, -2.67604720e-02, -7.93552846e-02,\n",
       "       -3.85245234e-02, -9.23816711e-02, -1.92940515e-02, -3.02914288e-02,\n",
       "        1.81545448e-02,  5.80113232e-02,  8.20523314e-03,  4.45134472e-03,\n",
       "        6.15749247e-02, -6.88837022e-02, -9.02145803e-02,  6.99703246e-02,\n",
       "       -3.69520113e-02,  8.53715092e-03, -2.39023175e-02, -2.58050929e-03,\n",
       "        3.26710334e-03,  4.80929576e-02,  1.70744993e-02, -6.46856427e-02,\n",
       "       -4.49940860e-02,  7.09589124e-02, -6.11512177e-02,  5.21835089e-02,\n",
       "       -9.41984169e-03,  8.19882005e-02, -3.84991542e-02,  5.13417460e-02,\n",
       "        3.13307941e-02, -3.27145623e-04,  6.04139641e-02,  1.95467826e-02,\n",
       "       -2.45916061e-02,  6.84511615e-04, -5.31731034e-03,  2.42804922e-02,\n",
       "        1.36767728e-02, -9.45862904e-02, -6.09052554e-02, -3.83355506e-02,\n",
       "       -7.48943463e-02, -2.26753838e-02,  1.90175027e-02,  5.51897585e-02,\n",
       "        2.89109945e-02,  6.82338253e-02, -5.75485080e-02, -6.36614263e-02,\n",
       "        1.27063066e-01,  8.77629742e-02, -4.26854491e-02,  5.33887893e-02,\n",
       "       -7.69023895e-02,  7.14229792e-02, -5.26057854e-02, -5.46843168e-33,\n",
       "        3.75919975e-02, -5.76016791e-02,  5.57236224e-02,  1.24141484e-01,\n",
       "        2.02536210e-02,  6.00739941e-02, -5.88917695e-02, -1.80564113e-02,\n",
       "        2.00048555e-02, -2.52786204e-02,  2.70024780e-02, -2.13272707e-03,\n",
       "       -7.60909915e-03, -5.86196445e-02, -9.80507359e-02,  5.19738644e-02,\n",
       "       -5.44186234e-02, -2.04162877e-02,  6.82757469e-03,  1.56462081e-02,\n",
       "        8.55342019e-03,  5.49951456e-02, -8.22733864e-02,  1.27978474e-02,\n",
       "        7.65694305e-02,  2.53341906e-02,  3.90703119e-02, -2.71790158e-02,\n",
       "        1.76247826e-03,  4.03676964e-02, -3.60628776e-02,  8.60457122e-02,\n",
       "       -6.46059290e-02, -2.70895548e-02,  7.28058368e-02,  9.09212697e-03,\n",
       "       -9.95010808e-02, -8.92378166e-02,  4.78313565e-02, -1.79631896e-02,\n",
       "       -6.07461296e-02, -2.24129530e-03,  3.24691925e-03,  5.45100197e-02,\n",
       "       -6.92176521e-02, -3.98349427e-02,  5.73718827e-03,  8.36682171e-02,\n",
       "        1.12277284e-01,  1.23169929e-01,  7.39748105e-02, -2.08679456e-02,\n",
       "        2.41474081e-02, -4.45195101e-02,  1.89347006e-02,  5.94831370e-02,\n",
       "        6.09392114e-02,  8.53062123e-02,  2.89590582e-02,  7.58115994e-03,\n",
       "       -2.63019819e-02,  4.99700978e-02, -6.09370880e-03,  8.27635229e-02,\n",
       "       -5.16564474e-02, -3.38943750e-02, -8.90387222e-02, -1.66831836e-02,\n",
       "        8.98836367e-03,  1.29631683e-01, -3.21601480e-02,  8.99557257e-04,\n",
       "        2.37639286e-02,  1.66331381e-02, -2.77804881e-02, -3.66700720e-03,\n",
       "       -1.95209626e-02,  2.45969612e-02, -4.75093871e-02,  5.77279590e-02,\n",
       "       -1.04210814e-02, -2.92191636e-02,  6.88701645e-02, -5.26460633e-02,\n",
       "        1.90207511e-02, -4.29877527e-02,  7.65390173e-02, -5.92254996e-02,\n",
       "        1.33031309e-01,  8.35775584e-02,  9.14535113e-03, -3.75288464e-02,\n",
       "        1.31997485e-02, -2.13313773e-02, -4.51559834e-02,  2.39113404e-33,\n",
       "       -4.44974154e-02,  4.50330041e-02,  4.38138805e-02,  3.29143107e-02,\n",
       "        4.82451245e-02, -9.35497135e-02, -5.23681529e-02, -8.63345992e-03,\n",
       "       -1.61645673e-02,  1.09013589e-02, -4.50914726e-02,  4.50921878e-02,\n",
       "        1.36358012e-02,  1.51107350e-04, -1.25922468e-02,  1.43291671e-02,\n",
       "        3.28716487e-02, -2.91112419e-02, -5.50315417e-02,  3.51199433e-02,\n",
       "        5.37379831e-02, -1.15900645e-02, -5.35180513e-03,  1.40099237e-02,\n",
       "       -2.75848657e-02, -3.05221956e-02, -1.74338501e-02, -2.03393362e-02,\n",
       "       -6.70923665e-02, -4.86446172e-02,  1.85599625e-02,  7.77427666e-03,\n",
       "       -8.69892687e-02, -4.98323217e-02, -6.66574985e-02,  2.29343418e-02,\n",
       "        1.43600476e-03,  7.65817165e-02,  6.38626814e-02, -4.32974612e-03,\n",
       "        1.32771865e-01, -8.81936848e-02,  4.92320620e-02,  6.23895824e-02,\n",
       "       -2.30978802e-02, -4.83014248e-02,  2.38800850e-02, -2.80132145e-02,\n",
       "       -8.39861333e-02,  8.37274343e-02, -1.08013496e-01,  5.24050444e-02,\n",
       "       -3.48166414e-02,  2.52928846e-02,  5.71388677e-02,  2.10392177e-02,\n",
       "        3.11073903e-02, -2.67929733e-02,  2.13561673e-02,  5.23212552e-02,\n",
       "        4.89763990e-02,  2.81953998e-03, -4.39340770e-02,  3.56417075e-02,\n",
       "        1.55958692e-02,  1.50219593e-02, -2.09571645e-02,  2.49749254e-02,\n",
       "       -1.13308476e-02, -9.83223412e-03,  1.63324159e-02, -9.14323553e-02,\n",
       "        6.39896318e-02,  3.15820612e-02,  1.92219876e-02,  1.85278095e-02,\n",
       "       -8.98651034e-02, -3.23076397e-02, -8.78792629e-02,  2.66965181e-02,\n",
       "        1.66965276e-02, -8.99372771e-02, -6.60587028e-02,  2.25786697e-02,\n",
       "       -3.50290947e-02,  3.18105631e-02,  2.39227340e-02,  4.51458246e-02,\n",
       "        1.28821936e-02, -8.37739632e-02, -3.80798429e-02, -1.62324961e-02,\n",
       "        6.72208937e-03, -6.43260479e-02,  2.90421490e-02, -1.54839555e-08,\n",
       "       -1.51835540e-02, -9.43044499e-02, -4.98814799e-04, -7.01903030e-02,\n",
       "       -2.86262520e-02, -4.02021781e-03, -1.15330610e-02,  1.28349150e-02,\n",
       "        4.74052168e-02,  1.40376195e-01,  3.62606943e-02,  1.51789235e-02,\n",
       "       -8.37466680e-03, -4.56157960e-02,  1.18551970e-01, -1.16284064e-03,\n",
       "        1.40211750e-02,  3.42270918e-02, -4.99829389e-02,  8.45091790e-02,\n",
       "        3.67906573e-03,  5.55847771e-02, -5.64036295e-02,  4.55192663e-02,\n",
       "        8.24535359e-03,  9.14498884e-03,  5.42306490e-02,  1.31488740e-01,\n",
       "        5.03755000e-04,  6.06347732e-02,  6.18920550e-02,  5.29594272e-02,\n",
       "       -8.02946389e-02, -1.84918586e-02, -1.14412643e-01, -3.96148041e-02,\n",
       "        1.66512597e-02, -9.34615731e-02,  4.67178300e-02, -5.33062667e-02,\n",
       "       -9.13051050e-03,  8.58085901e-02,  1.82453115e-02,  6.05597347e-02,\n",
       "        7.33779650e-03,  4.68531111e-03, -7.01091532e-03,  1.53821073e-02,\n",
       "       -3.25702056e-02, -1.60944555e-02, -3.07430848e-02,  9.58514307e-03,\n",
       "        2.71935016e-02, -1.11492025e-02,  7.72274062e-02,  3.59157822e-03,\n",
       "        7.22180754e-02,  4.25197966e-02, -2.57986411e-02, -1.16909564e-01,\n",
       "       -2.40422133e-02, -4.51412471e-03,  3.67169455e-02, -1.45141613e-02],\n",
       "      dtype=float32)"
      ]
     },
     "execution_count": 16,
     "metadata": {},
     "output_type": "execute_result"
    }
   ],
   "source": [
    "# Step 3: User Query and Semantic Matching\n",
    "import numpy as np\n",
    "\n",
    "query = \"Tell me about John's job role.\"\n",
    "query_vec = model.encode([query])[0]\n",
    "query_vec"
   ]
  },
  {
   "cell_type": "code",
   "execution_count": 17,
   "id": "dc9019dd",
   "metadata": {},
   "outputs": [],
   "source": [
    "similarities = model.similarity(query_vec, doc_vectors)\n",
    "\n",
    "# Ensure it's a 1D numpy array\n",
    "similarities = np.asarray(similarities).squeeze()\n",
    "\n",
    "# Now get top 3\n",
    "top_3_indices = np.argsort(similarities)[::-1][:3]\n",
    "top_scores = similarities[top_3_indices]"
   ]
  },
  {
   "cell_type": "code",
   "execution_count": 18,
   "id": "92b28930",
   "metadata": {},
   "outputs": [
    {
     "data": {
      "text/plain": [
       "array([0.46848616, 0.4624754 , 0.31589437], dtype=float32)"
      ]
     },
     "execution_count": 18,
     "metadata": {},
     "output_type": "execute_result"
    }
   ],
   "source": [
    "top_scores"
   ]
  },
  {
   "cell_type": "code",
   "execution_count": 19,
   "id": "0fdf3f46",
   "metadata": {},
   "outputs": [
    {
     "data": {
      "text/plain": [
       "([\"John's pay is processed on the 1st of every month.\",\n",
       "  'John is an AI architect and has salary of 500K USD.',\n",
       "  'Mark is a product manager.'],\n",
       " \"John's pay is processed on the 1st of every month.\\n---\\nJohn is an AI architect and has salary of 500K USD.\\n---\\nMark is a product manager.\")"
      ]
     },
     "execution_count": 19,
     "metadata": {},
     "output_type": "execute_result"
    }
   ],
   "source": [
    "top_docs = [documents[i]['content'] for i in top_3_indices]\n",
    "\n",
    "top_docs\n",
    "context = \"\\n---\\n\".join(top_docs)\n",
    "top_docs, context"
   ]
  },
  {
   "cell_type": "code",
   "execution_count": 20,
   "id": "ed37ac4a",
   "metadata": {},
   "outputs": [],
   "source": [
    "import os\n",
    "from dotenv import load_dotenv\n",
    "from openai import OpenAI\n",
    "\n",
    "load_dotenv(override=True, dotenv_path=\"../.env\")\n",
    "my_api_key = os.getenv(\"OPEN_AI_API_KEY\")\n",
    "\n",
    "my_client = OpenAI(api_key=my_api_key)\n",
    "# my_client\n",
    "\n",
    "def ask_question_open_ai(prompt):\n",
    "\n",
    "    # print(f\"User asked: {prompt}\")\n",
    "    # my_client.chat.completions.create\n",
    "\n",
    "    llm_response = my_client.chat.completions.create(\n",
    "        model=\"gpt-5-nano\",\n",
    "        # messages=[\n",
    "        #     {\"role\": \"system\", \"content\": \"You are a helpful assistant. Answer as concisely as possible.\"},\n",
    "        #     {\"role\": \"user\", \"content\": prompt}\n",
    "        # ]\n",
    "        messages=[\n",
    "            {\"role\": \"system\", \"content\": '''\n",
    "             You are an assistant who answers only based on the given context.\n",
    "             '''},\n",
    "            {\"role\": \"user\", \"content\": f\"Context: {context}\\n\\n User Question: {query}\"} \n",
    "        ]\n",
    "\n",
    "    )\n",
    "    return llm_response.choices[0].message.content  \n"
   ]
  },
  {
   "cell_type": "code",
   "execution_count": 21,
   "id": "c7b59025",
   "metadata": {},
   "outputs": [
    {
     "name": "stdout",
     "output_type": "stream",
     "text": [
      "Tell me about John's job role.\n"
     ]
    }
   ],
   "source": [
    "print (query)\n",
    "response = ask_question_open_ai(query)"
   ]
  },
  {
   "cell_type": "code",
   "execution_count": 22,
   "id": "1789bc74",
   "metadata": {},
   "outputs": [
    {
     "name": "stdout",
     "output_type": "stream",
     "text": [
      "User query: Tell me about John's job role.\n",
      "Context: John's pay is processed on the 1st of every month.\n",
      "---\n",
      "John is an AI architect and has salary of 500K USD.\n",
      "---\n",
      "Mark is a product manager.\n",
      "\n",
      "\n",
      "Open AI Response: John's job role is AI architect.\n"
     ]
    }
   ],
   "source": [
    "print(f\"User query: {query}\")\n",
    "print(f\"Context: {context}\")\n",
    "\n",
    "print(f\"\\n\\nOpen AI Response: {response}\")"
   ]
  },
  {
   "cell_type": "code",
   "execution_count": null,
   "id": "2be327d6",
   "metadata": {},
   "outputs": [],
   "source": []
  }
 ],
 "metadata": {
  "kernelspec": {
   "display_name": ".venv",
   "language": "python",
   "name": "python3"
  },
  "language_info": {
   "codemirror_mode": {
    "name": "ipython",
    "version": 3
   },
   "file_extension": ".py",
   "mimetype": "text/x-python",
   "name": "python",
   "nbconvert_exporter": "python",
   "pygments_lexer": "ipython3",
   "version": "3.13.5"
  }
 },
 "nbformat": 4,
 "nbformat_minor": 5
}
