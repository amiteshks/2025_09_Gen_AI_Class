{
 "cells": [
  {
   "cell_type": "markdown",
   "id": "54d064b0",
   "metadata": {},
   "source": [
    "## Milvus Vector DB for RAG "
   ]
  },
  {
   "cell_type": "markdown",
   "id": "a19397f0",
   "metadata": {},
   "source": [
    "### Create a collection of legal docs"
   ]
  },
  {
   "cell_type": "code",
   "execution_count": null,
   "id": "38ed78a5",
   "metadata": {},
   "outputs": [],
   "source": [
    "# pip install pymilvus\n",
    "# pip install milvus-cli"
   ]
  },
  {
   "cell_type": "code",
   "execution_count": null,
   "id": "38cf87d1",
   "metadata": {},
   "outputs": [],
   "source": [
    "from pymilvus import connections\n",
    "from pymilvus import connections\n",
    "\n",
    "# If using Docker standalone Milvus\n",
    "connections.connect(\"default\", host=\"127.0.0.1\", port=\"19530\")"
   ]
  },
  {
   "cell_type": "code",
   "execution_count": null,
   "id": "94dd185b",
   "metadata": {},
   "outputs": [],
   "source": [
    "from pymilvus import db\n",
    "\n",
    "# 1. Create a new database\n",
    "# db.create_database(\"rag_db\")\n",
    "\n",
    "# 2. Switch to that database\n",
    "db.using_database(\"rag_db\")\n"
   ]
  },
  {
   "cell_type": "code",
   "execution_count": null,
   "id": "33124fab",
   "metadata": {},
   "outputs": [],
   "source": [
    "from pymilvus import FieldSchema, CollectionSchema, DataType, Collection\n",
    "\n",
    "# 3. Define schema for legal_docs collection\n",
    "\n",
    "# Fields: doc_id, title, jurisdiction, date, embedding\n",
    "fields = [\n",
    "    FieldSchema(name=\"doc_id\", dtype=DataType.INT64, is_primary=True, auto_id=False),\n",
    "    FieldSchema(name=\"title\", dtype=DataType.VARCHAR, max_length=256),\n",
    "    FieldSchema(name=\"jurisdiction\", dtype=DataType.VARCHAR, max_length=64),\n",
    "    FieldSchema(name=\"date\", dtype=DataType.INT64),  # e.g., YYYYMMDD format\n",
    "    FieldSchema(name=\"embedding\", dtype=DataType.FLOAT_VECTOR, dim=768)]\n",
    "schema = CollectionSchema(fields, description=\"Legal document embeddings with metadata\")\n",
    "\n",
    "# Create collection\n",
    "collection = Collection(\"legal_docs_2\", schema)"
   ]
  },
  {
   "cell_type": "code",
   "execution_count": null,
   "id": "c17aee69",
   "metadata": {},
   "outputs": [],
   "source": [
    "import numpy as np\n",
    "\n",
    "# Example embeddings (in reality, generate from a model like OpenAI/LegalBERT)\n",
    "embedding1 = np.random.rand(768).tolist()\n",
    "embedding2 = np.random.rand(768).tolist()\n",
    "print(f\"Embedding1 Length: {len(embedding1)}\")\n",
    "print(f\"Embedding2 Length: {len(embedding2)}\")  \n",
    "print(f\"Embedding1 Sample: {embedding1[:5]}\")  # Print first 5 elements\n",
    "print(f\"Embedding2 Sample: {embedding2[:5]}\")  # Print first 5 elements\n",
    "\n",
    "docs = [\n",
    "    [1, 2],  # doc_id\n",
    "    [\"Employment Law Case\", \"Tax Dispute\"],  # title\n",
    "    [\"California\", \"New York\"],  # jurisdiction\n",
    "    [20230901, 20230715],  # date\n",
    "    [embedding1, embedding2]  # embeddings\n",
    "]\n",
    "\n",
    "index_params = {\n",
    "    \"index_type\": \"IVF_FLAT\",\n",
    "    \"metric_type\": \"COSINE\",\n",
    "    \"params\": {\"nlist\": 128}\n",
    "}\n",
    "collection.create_index(\n",
    "    field_name=\"embedding\",\n",
    "    index_params=index_params\n",
    ")\n",
    "\n",
    "collection.insert(docs)\n",
    "collection.flush()\n",
    "\n"
   ]
  },
  {
   "cell_type": "code",
   "execution_count": null,
   "id": "0611ec19",
   "metadata": {},
   "outputs": [],
   "source": [
    "# collection.insert(docs)\n"
   ]
  },
  {
   "cell_type": "code",
   "execution_count": null,
   "id": "304982b0",
   "metadata": {},
   "outputs": [],
   "source": [
    "collection.load()"
   ]
  },
  {
   "cell_type": "code",
   "execution_count": null,
   "id": "2bcf32a0",
   "metadata": {},
   "outputs": [],
   "source": [
    "query_vector = embedding1  # pretend we want similar to doc 1\n",
    "\n",
    "# Search only in California jurisdiction\n",
    "results = collection.search(\n",
    "    data=[query_vector],\n",
    "    anns_field=\"embedding\",\n",
    "    param={\"metric_type\": \"COSINE\", \"params\": {\"nprobe\": 10}},\n",
    "    limit=3,\n",
    "    expr='jurisdiction == \"California\"',\n",
    "    output_fields=[\"doc_id\", \"title\", \"jurisdiction\", \"date\"]\n",
    ")\n",
    "\n",
    "for res in results[0]:\n",
    "    print(f\"doc_id={res.entity.get('doc_id')}, \"\n",
    "          f\"title={res.entity.get('title')}, \"\n",
    "          f\"jurisdiction={res.entity.get('jurisdiction')}, \"\n",
    "          f\"score={res.distance}\")\n"
   ]
  },
  {
   "cell_type": "code",
   "execution_count": null,
   "id": "2a87d5b0",
   "metadata": {},
   "outputs": [],
   "source": []
  }
 ],
 "metadata": {
  "kernelspec": {
   "display_name": ".venv",
   "language": "python",
   "name": "python3"
  },
  "language_info": {
   "codemirror_mode": {
    "name": "ipython",
    "version": 3
   },
   "file_extension": ".py",
   "mimetype": "text/x-python",
   "name": "python",
   "nbconvert_exporter": "python",
   "pygments_lexer": "ipython3",
   "version": "3.13.5"
  }
 },
 "nbformat": 4,
 "nbformat_minor": 5
}
