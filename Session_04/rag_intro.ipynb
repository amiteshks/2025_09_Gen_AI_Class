{
 "cells": [
  {
   "cell_type": "markdown",
   "id": "865d6195",
   "metadata": {},
   "source": []
  },
  {
   "cell_type": "code",
   "execution_count": null,
   "id": "75fd629b",
   "metadata": {},
   "outputs": [
    {
     "data": {
      "text/plain": [
       "['Employees are paid bi-weekly via direct deposit.',\n",
       " 'Employees must submit a leave request for approval.',\n",
       " 'Company internet must be used for work-related tasks only.',\n",
       " 'Employees can take an hour break.',\n",
       " 'Interact with each employee with Respect']"
      ]
     },
     "execution_count": 44,
     "metadata": {},
     "output_type": "execute_result"
    }
   ],
   "source": [
    "\n",
    "# Step 1: Define Sample Documents\n",
    "documents = [\n",
    "    {\"section\": \"Pay Policies\", \"content\": \"Employees are paid bi-weekly via direct deposit.\"},\n",
    "    {\"section\": \"Leave of Absence\", \"content\": \"Employees must submit a leave request for approval.\"},\n",
    "    {\"section\": \"Internet Use\", \"content\": \"Company internet must be used for work-related tasks only.\"},\n",
    "    {\"section\": \"Break at Work\", \"content\": \"Employees can take an hour break.\"},\n",
    "    {\"section\": \"Harassment\", \"content\": \"Interact with each employee with Respect\"}\n",
    "]\n",
    "\n",
    "# \"What’s the internet usage policy?\"\n",
    "\n",
    "# No text comparison - Only Vector/ Embeddings comparison\n",
    "\n",
    "# ([0.12655601, 0.09747529, 0.44755298, 0.11316206, 0.04429515],\n",
    "\n",
    "# 0.12655601 - Query Vector is 12% similar to document 1's vector - Query is 12% similar to document 1\n",
    "\n",
    "# Step 2: Get Content Texts\n",
    "content_corpus = [doc[\"content\"] for doc in documents]\n",
    "content_corpus"
   ]
  },
  {
   "cell_type": "code",
   "execution_count": 45,
   "id": "7115b44b",
   "metadata": {},
   "outputs": [
    {
     "name": "stderr",
     "output_type": "stream",
     "text": [
      "huggingface/tokenizers: The current process just got forked, after parallelism has already been used. Disabling parallelism to avoid deadlocks...\n",
      "To disable this warning, you can either:\n",
      "\t- Avoid using `tokenizers` before the fork if possible\n",
      "\t- Explicitly set the environment variable TOKENIZERS_PARALLELISM=(true | false)\n"
     ]
    },
    {
     "name": "stdout",
     "output_type": "stream",
     "text": [
      "Note: you may need to restart the kernel to use updated packages.\n"
     ]
    }
   ],
   "source": [
    "%pip install -q sentence-transformers"
   ]
  },
  {
   "cell_type": "code",
   "execution_count": 46,
   "id": "01d063c9",
   "metadata": {},
   "outputs": [],
   "source": [
    "from sentence_transformers import SentenceTransformer\n",
    "\n",
    "model = SentenceTransformer(\"all-MiniLM-L6-v2\")\n",
    "doc_vectors = model.encode(content_corpus)"
   ]
  },
  {
   "cell_type": "code",
   "execution_count": 47,
   "id": "f145d4dc",
   "metadata": {},
   "outputs": [
    {
     "data": {
      "text/plain": [
       "array([[ 0.02472514, -0.00908146,  0.0388713 , ...,  0.0196564 ,\n",
       "         0.04260007, -0.02707142],\n",
       "       [ 0.03315507,  0.04853379,  0.04736274, ...,  0.10182011,\n",
       "         0.0915928 ,  0.00358368],\n",
       "       [-0.07135908, -0.03066469,  0.03183772, ..., -0.04109802,\n",
       "         0.06524781, -0.00688534],\n",
       "       [-0.01790445,  0.01495852,  0.08163831, ..., -0.03217232,\n",
       "        -0.0051365 ,  0.05279535],\n",
       "       [-0.00240885,  0.03361142, -0.06162645, ...,  0.04830882,\n",
       "         0.0370764 , -0.01683048]], shape=(5, 384), dtype=float32)"
      ]
     },
     "execution_count": 47,
     "metadata": {},
     "output_type": "execute_result"
    }
   ],
   "source": [
    "doc_vectors"
   ]
  },
  {
   "cell_type": "code",
   "execution_count": 6,
   "id": "8d5c5714",
   "metadata": {},
   "outputs": [
    {
     "data": {
      "text/plain": [
       "array([ 2.39816820e-03, -4.11839932e-02, -2.52490565e-02, -4.67050076e-02,\n",
       "        4.32103314e-03,  1.65876430e-02,  1.20891653e-01, -3.50352898e-02,\n",
       "        2.16827309e-03, -1.62890152e-04,  2.62875985e-02,  9.05028209e-02,\n",
       "       -2.66066510e-02, -1.82131808e-02,  3.06277778e-02,  1.67854987e-02,\n",
       "        1.55614102e-02, -8.26497748e-02, -3.40456404e-02, -3.08671743e-02,\n",
       "        7.89995566e-02, -3.16904187e-02,  1.35831395e-02,  9.12274292e-04,\n",
       "       -1.05809318e-02,  3.91190648e-02, -3.48707736e-02,  8.64355243e-05,\n",
       "       -3.52702476e-02,  3.56902331e-02,  9.55271535e-03, -3.57899517e-02,\n",
       "        4.84947534e-03, -4.10227180e-02, -7.66861811e-02, -1.00646734e-01,\n",
       "       -9.23561081e-02, -2.47275387e-03, -2.74321344e-02,  2.85045840e-02,\n",
       "        2.86296494e-02, -7.78359100e-02, -2.46462156e-03,  9.98250544e-02,\n",
       "        5.86107075e-02,  2.24836506e-02,  1.56647016e-04,  1.44218225e-02,\n",
       "        5.55950392e-04,  3.22429426e-02,  1.03300072e-01,  3.42920125e-02,\n",
       "        3.94683145e-02,  6.23769611e-02,  1.07596843e-02, -1.15800187e-01,\n",
       "        1.69064198e-02,  2.19254326e-02,  3.00978478e-02,  2.11112797e-02,\n",
       "       -2.59688287e-03, -7.27642253e-02, -6.76790401e-02,  7.68678039e-02,\n",
       "       -1.15296952e-02,  3.48517522e-02, -2.33591832e-02,  1.52927702e-02,\n",
       "       -2.97643095e-02,  4.55084443e-02, -1.15567744e-01,  3.93702835e-02,\n",
       "       -5.40503487e-02,  4.61292416e-02,  1.33388545e-02, -7.51991645e-02,\n",
       "        6.38950393e-02, -3.08048446e-03,  7.49371648e-02, -1.85616724e-02,\n",
       "        1.43101402e-02, -1.72361620e-02,  1.37788579e-01, -3.29506174e-02,\n",
       "       -2.56322995e-02,  8.07307195e-03, -5.46996258e-02, -2.44552922e-03,\n",
       "        6.52807653e-02, -4.95157205e-02,  1.53207770e-02,  6.97189346e-02,\n",
       "        4.46444452e-02,  9.65362862e-02, -5.11302240e-02, -2.05873754e-02,\n",
       "       -2.10972391e-02, -9.71185490e-02, -7.94049650e-02,  3.12589630e-02,\n",
       "       -7.50530232e-03,  4.97668274e-02, -1.00573376e-02,  2.52761506e-03,\n",
       "       -2.05894606e-03, -6.02665590e-03,  4.75017019e-02,  1.23082176e-01,\n",
       "        6.58615679e-02,  9.37834680e-02, -3.74155752e-02, -5.54867163e-02,\n",
       "        3.39797847e-02, -3.74260992e-02, -1.43937825e-03, -5.31309023e-02,\n",
       "       -2.65755411e-02,  8.18822253e-03,  1.13860317e-01,  5.81826344e-02,\n",
       "       -1.55394124e-02, -2.76697148e-02,  3.24097760e-02, -7.08238780e-02,\n",
       "        4.29186597e-03, -1.16477972e-02, -1.73570476e-02, -7.55855431e-33,\n",
       "        3.06552332e-02,  1.16771450e-02, -6.09755069e-02, -3.86530198e-02,\n",
       "        2.68617757e-02, -9.85136908e-03, -1.86320953e-02,  3.65657583e-02,\n",
       "       -2.80132592e-02, -6.09582476e-02,  3.79796922e-02,  5.13066836e-02,\n",
       "       -1.49087664e-02,  3.34051251e-02,  1.48161456e-01,  4.69705984e-02,\n",
       "        1.32077769e-03,  1.31207407e-01,  1.67063162e-01,  4.77649570e-02,\n",
       "        3.71823013e-02, -7.08109662e-02,  3.26992199e-02,  3.89833860e-02,\n",
       "        1.62046291e-02, -4.45157476e-02, -1.83472130e-02,  3.33901532e-02,\n",
       "        7.85626099e-02,  1.19626615e-02,  3.47427391e-02, -1.34447599e-02,\n",
       "       -5.79932742e-02, -2.93444768e-02,  1.02427274e-01,  2.88467295e-02,\n",
       "       -2.70553883e-02,  4.19908538e-02, -3.16849872e-02,  1.88856237e-02,\n",
       "       -4.65316437e-02,  3.45927291e-03, -1.98343452e-02,  2.03862470e-02,\n",
       "       -7.21614659e-02, -4.11908999e-02, -2.97252014e-02, -4.65086587e-02,\n",
       "       -8.75938032e-03,  7.15975314e-02,  5.49732149e-03,  2.10421700e-02,\n",
       "       -3.88432629e-02,  3.64191905e-02, -6.46178722e-02,  6.77569434e-02,\n",
       "       -6.87137991e-02, -1.51218735e-02,  6.75941259e-02, -2.46229172e-02,\n",
       "        1.07241333e-01, -2.48208214e-02, -9.58735496e-03,  2.40379479e-02,\n",
       "       -1.86629202e-02, -7.43623730e-03,  8.44405685e-03,  8.51177610e-03,\n",
       "       -3.66360061e-02,  7.39853014e-04,  4.95233666e-03,  1.98397692e-02,\n",
       "        3.04450281e-02,  2.42029801e-02, -6.73281997e-02,  5.20315729e-02,\n",
       "       -5.60340993e-02,  2.12670956e-02, -7.85245299e-02, -7.31084729e-03,\n",
       "       -1.28208222e-02,  7.62085710e-03,  5.63642532e-02, -4.32056151e-02,\n",
       "       -3.98840122e-02, -7.61049837e-02, -9.99087747e-03,  3.78900468e-02,\n",
       "       -6.75894693e-02,  7.69867897e-02, -3.56642380e-02, -5.13899280e-03,\n",
       "       -5.80386147e-02,  4.74707223e-02,  2.64645834e-02,  4.76736942e-33,\n",
       "       -5.03876917e-02,  2.03285348e-02, -5.34091704e-03,  2.58832518e-02,\n",
       "       -5.64486682e-02, -1.21453973e-02,  3.77588868e-02,  2.94775423e-02,\n",
       "        3.24929282e-02,  3.92705165e-02, -3.38439345e-02,  4.90851179e-02,\n",
       "        4.36564721e-02, -3.22917886e-02,  8.05928651e-03, -5.83074726e-02,\n",
       "       -3.06452401e-02, -7.70597011e-02, -9.39259008e-02, -1.01629235e-02,\n",
       "       -4.43021990e-02, -7.66233727e-02, -4.50960733e-02, -1.40236933e-02,\n",
       "        2.23383959e-03, -2.42459513e-02, -4.31172177e-02, -6.72469959e-02,\n",
       "       -8.69246293e-03, -7.64961028e-03, -3.22375447e-02, -2.70511955e-02,\n",
       "       -5.16185090e-02, -9.34265368e-03, -5.81298992e-02,  6.65495126e-03,\n",
       "        1.23528559e-02,  1.24266177e-01,  3.46941911e-02,  2.53748372e-02,\n",
       "        3.36178914e-02,  1.25614535e-02, -2.43623219e-02,  9.49835107e-02,\n",
       "        1.68447774e-02,  2.92414948e-02, -4.98966537e-02,  1.29347499e-02,\n",
       "       -6.95436969e-02, -9.73176118e-03,  7.63178915e-02, -4.15893011e-02,\n",
       "        3.08877826e-02, -2.62136981e-02, -4.42714617e-02,  2.73383018e-02,\n",
       "        9.84304398e-03, -7.10924063e-03, -6.75566494e-03,  1.73268486e-02,\n",
       "        7.15261996e-02, -4.79634218e-02, -1.44953132e-01,  5.72161339e-02,\n",
       "       -1.38593158e-02, -1.15896678e-02,  1.13692076e-03, -1.83666393e-03,\n",
       "        6.17344677e-02,  1.08357994e-02,  3.57802324e-02, -5.02969660e-02,\n",
       "       -2.63799969e-02, -1.84117351e-02, -1.93655733e-02, -3.46045457e-02,\n",
       "        1.31017923e-01,  5.20426482e-02, -8.03731382e-02,  6.47592545e-02,\n",
       "        1.00811408e-03,  7.17015639e-02,  1.30139152e-03, -3.62921096e-02,\n",
       "       -1.00092702e-02, -8.76510218e-02,  1.54927419e-02, -5.25876880e-02,\n",
       "       -9.96984616e-02, -5.92197198e-03, -6.65124357e-02, -3.05305067e-02,\n",
       "       -1.50843367e-01,  5.93998097e-02, -2.11996473e-02, -1.55651598e-08,\n",
       "       -3.90874781e-02,  1.00961113e-02,  1.02275044e-01,  1.59482434e-02,\n",
       "        6.27622753e-02,  4.61509787e-02,  7.00819343e-02,  1.54741146e-02,\n",
       "        1.24749606e-02, -1.12211471e-02,  8.47484320e-02,  7.65789896e-02,\n",
       "       -3.07727568e-02, -7.13087246e-02,  3.24047096e-02, -3.36870439e-02,\n",
       "        3.92960794e-02, -8.42217878e-02, -7.83959962e-03,  5.94570450e-02,\n",
       "        1.76958600e-03, -6.20616376e-02, -3.33138369e-02, -4.05824780e-02,\n",
       "        1.14717083e-02,  6.62660897e-02,  5.13357818e-02,  7.23474994e-02,\n",
       "        6.11041381e-04,  7.44849518e-02, -4.51178029e-02,  2.27409545e-02,\n",
       "       -3.77223305e-02, -7.05108419e-02, -8.18264410e-02,  9.12019704e-03,\n",
       "       -7.93218538e-02, -5.53480983e-02,  3.95663008e-02, -9.16414335e-03,\n",
       "        4.83492538e-02, -1.49150211e-02,  1.28193945e-01,  1.49262203e-02,\n",
       "        2.96469200e-02,  5.26853092e-02, -1.13804348e-01,  5.24924025e-02,\n",
       "        8.44675526e-02, -6.12894855e-02, -2.90583968e-02, -6.14745691e-02,\n",
       "        5.36277331e-02,  7.21470937e-02, -1.98238418e-02, -4.26708162e-02,\n",
       "        6.67688251e-02, -1.66884586e-02, -7.12624639e-02,  7.55198896e-02,\n",
       "        2.43237820e-02,  3.12410202e-03,  5.78149455e-03,  1.40316982e-03],\n",
       "      dtype=float32)"
      ]
     },
     "execution_count": 6,
     "metadata": {},
     "output_type": "execute_result"
    }
   ],
   "source": [
    "# Step 3: User Query and Semantic Matching\n",
    "import numpy as np\n",
    "\n",
    "query = \"What’s the internet usage policy?\"\n",
    "query_vec = model.encode([query])[0]\n",
    "query_vec"
   ]
  },
  {
   "cell_type": "code",
   "execution_count": 50,
   "id": "dc9019dd",
   "metadata": {},
   "outputs": [
    {
     "data": {
      "text/plain": [
       "array([0.12655601, 0.09747529, 0.44755298, 0.11316206, 0.04429515],\n",
       "      dtype=float32)"
      ]
     },
     "execution_count": 50,
     "metadata": {},
     "output_type": "execute_result"
    }
   ],
   "source": [
    "similarities = model.similarity(query_vec, doc_vectors)\n",
    "\n",
    "# Ensure it's a 1D numpy array\n",
    "similarities = np.asarray(similarities).squeeze()\n",
    "similarities"
   ]
  },
  {
   "cell_type": "code",
   "execution_count": 51,
   "id": "45ffedc9",
   "metadata": {},
   "outputs": [
    {
     "name": "stdout",
     "output_type": "stream",
     "text": [
      "[2 0 3]\n"
     ]
    },
    {
     "data": {
      "text/plain": [
       "array([0.44755298, 0.12655601, 0.11316206], dtype=float32)"
      ]
     },
     "execution_count": 51,
     "metadata": {},
     "output_type": "execute_result"
    }
   ],
   "source": [
    "\n",
    "# Now get top 3\n",
    "top_3_indices = np.argsort(similarities)[::-1][:3]\n",
    "print(top_3_indices)\n",
    "top_scores = similarities[top_3_indices]\n",
    "top_scores"
   ]
  },
  {
   "cell_type": "code",
   "execution_count": 49,
   "id": "92b28930",
   "metadata": {},
   "outputs": [
    {
     "data": {
      "text/plain": [
       "array([0.44755298, 0.12655601, 0.11316206], dtype=float32)"
      ]
     },
     "execution_count": 49,
     "metadata": {},
     "output_type": "execute_result"
    }
   ],
   "source": [
    "top_scores"
   ]
  },
  {
   "cell_type": "code",
   "execution_count": 53,
   "id": "0fdf3f46",
   "metadata": {},
   "outputs": [
    {
     "name": "stdout",
     "output_type": "stream",
     "text": [
      "['Company internet must be used for work-related tasks only.', 'Employees are paid bi-weekly via direct deposit.', 'Employees can take an hour break.']\n"
     ]
    },
    {
     "data": {
      "text/plain": [
       "'Company internet must be used for work-related tasks only.\\n---\\nEmployees are paid bi-weekly via direct deposit.\\n---\\nEmployees can take an hour break.'"
      ]
     },
     "execution_count": 53,
     "metadata": {},
     "output_type": "execute_result"
    }
   ],
   "source": [
    "top_docs = [documents[i]['content'] for i in top_3_indices]\n",
    "# documents = [\n",
    "#     {\"section\": \"Pay Policies\", \"content\": \"Employees are paid bi-weekly via direct deposit.\"},\n",
    "#     {\"section\": \"Leave of Absence\", \"content\": \"Employees must submit a leave request for approval.\"},\n",
    "#     {\"section\": \"Internet Use\", \"content\": \"Company internet must be used for work-related tasks only.\"},\n",
    "#     {\"section\": \"Break at Work\", \"content\": \"Employees can take an hour break.\"},\n",
    "#     {\"section\": \"Harassment\", \"content\": \"Interact with each employee with Respect\"}\n",
    "# ]\n",
    "\n",
    "print (top_docs)\n",
    "context = \"\\n---\\n\".join(top_docs)\n",
    "context"
   ]
  },
  {
   "cell_type": "code",
   "execution_count": 41,
   "id": "ed37ac4a",
   "metadata": {},
   "outputs": [],
   "source": [
    "import os\n",
    "from dotenv import load_dotenv\n",
    "from openai import OpenAI\n",
    "\n",
    "load_dotenv(override=True, dotenv_path=\"../.env\")\n",
    "my_api_key = os.getenv(\"OPEN_AI_API_KEY\")\n",
    "\n",
    "my_client = OpenAI(api_key=my_api_key)\n",
    "# my_client\n",
    "\n",
    "def ask_question_open_ai(prompt):\n",
    "\n",
    "    # print(f\"User asked: {prompt}\")\n",
    "    # my_client.chat.completions.create\n",
    "\n",
    "    llm_response = my_client.chat.completions.create(\n",
    "        model=\"gpt-5-nano\",\n",
    "        # messages=[\n",
    "        #     {\"role\": \"system\", \"content\": \"You are a helpful assistant. Answer as concisely as possible.\"},\n",
    "        #     {\"role\": \"user\", \"content\": prompt}\n",
    "        # ]\n",
    "        messages=[\n",
    "            {\"role\": \"system\", \"content\": '''\n",
    "             You are an assistant who answers only based on the given context.\n",
    "             '''},\n",
    "            {\"role\": \"user\", \"content\": f\"Context: {context}\\n\\n User Question: {query}\"} \n",
    "        ]\n",
    "\n",
    "    )\n",
    "    return llm_response.choices[0].message.content  \n"
   ]
  },
  {
   "cell_type": "code",
   "execution_count": 42,
   "id": "c7b59025",
   "metadata": {},
   "outputs": [
    {
     "name": "stdout",
     "output_type": "stream",
     "text": [
      "What’s the internet usage policy?\n"
     ]
    }
   ],
   "source": [
    "print (query)\n",
    "response = ask_question_open_ai(query)"
   ]
  },
  {
   "cell_type": "code",
   "execution_count": 43,
   "id": "1789bc74",
   "metadata": {},
   "outputs": [
    {
     "name": "stdout",
     "output_type": "stream",
     "text": [
      "User query: What’s the internet usage policy?\n",
      "Context: Company internet must be used for work-related tasks only.\n",
      "---\n",
      "Employees are paid bi-weekly via direct deposit.\n",
      "---\n",
      "Employees must submit a leave request for approval.\n",
      "\n",
      "\n",
      "Open AI Response: Company internet must be used for work-related tasks only.\n"
     ]
    }
   ],
   "source": [
    "print(f\"User query: {query}\")\n",
    "print(f\"Context: {context}\")\n",
    "\n",
    "print(f\"\\n\\nOpen AI Response: {response}\")"
   ]
  },
  {
   "cell_type": "code",
   "execution_count": null,
   "id": "2be327d6",
   "metadata": {},
   "outputs": [],
   "source": []
  }
 ],
 "metadata": {
  "kernelspec": {
   "display_name": ".venv",
   "language": "python",
   "name": "python3"
  },
  "language_info": {
   "codemirror_mode": {
    "name": "ipython",
    "version": 3
   },
   "file_extension": ".py",
   "mimetype": "text/x-python",
   "name": "python",
   "nbconvert_exporter": "python",
   "pygments_lexer": "ipython3",
   "version": "3.13.5"
  }
 },
 "nbformat": 4,
 "nbformat_minor": 5
}
